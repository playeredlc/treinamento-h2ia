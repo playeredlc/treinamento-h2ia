{
  "nbformat": 4,
  "nbformat_minor": 0,
  "metadata": {
    "colab": {
      "name": "kmeans_h2ia.ipynb",
      "provenance": [],
      "collapsed_sections": [],
      "authorship_tag": "ABX9TyMNGNsj0oLSJflZsRDGCA1Q",
      "include_colab_link": true
    },
    "kernelspec": {
      "name": "python3",
      "display_name": "Python 3"
    },
    "language_info": {
      "name": "python"
    }
  },
  "cells": [
    {
      "cell_type": "markdown",
      "metadata": {
        "id": "view-in-github",
        "colab_type": "text"
      },
      "source": [
        "<a href=\"https://colab.research.google.com/github/playeredlc/treinamento-h2ia/blob/master/Aprendizado-Maquina/kmeans_clusterizacao_iris.ipynb\" target=\"_parent\"><img src=\"https://colab.research.google.com/assets/colab-badge.svg\" alt=\"Open In Colab\"/></a>"
      ]
    },
    {
      "cell_type": "code",
      "execution_count": 1,
      "metadata": {
        "id": "FLJynv4oV6bV"
      },
      "outputs": [],
      "source": [
        "# Implementação do algoritmo de aprendizado não-supervisionado K-Means\n",
        "# Aplicar a clusterização ao dataset de Ìris."
      ]
    },
    {
      "cell_type": "code",
      "source": [
        "%matplotlib inline\n",
        "import matplotlib.pyplot as plt\n",
        "\n",
        "import math\n",
        "import numpy as np\n",
        "import pandas as pd\n",
        "from sklearn.datasets import load_iris\n",
        "from sklearn.preprocessing import StandardScaler\n",
        "from sklearn.decomposition import PCA"
      ],
      "metadata": {
        "id": "VPT9yuflWhya"
      },
      "execution_count": 2,
      "outputs": []
    },
    {
      "cell_type": "markdown",
      "source": [
        "# *Load and explore the dataset*\n",
        "https://scikit-learn.org/stable/auto_examples/datasets/plot_iris_dataset.html"
      ],
      "metadata": {
        "id": "RSkqTnY1d-8E"
      }
    },
    {
      "cell_type": "code",
      "source": [
        "iris_dataset = load_iris()"
      ],
      "metadata": {
        "id": "-c3OKH6Xa_kH"
      },
      "execution_count": 3,
      "outputs": []
    },
    {
      "cell_type": "code",
      "source": [
        "print(dir(iris_dataset))\n",
        "\n",
        "print(iris_dataset.feature_names)\n",
        "print(iris_dataset.DESCR)"
      ],
      "metadata": {
        "colab": {
          "base_uri": "https://localhost:8080/"
        },
        "id": "0TkqUXP_bgSp",
        "outputId": "b441b7c4-93af-4cb4-99a7-f8c5834bd412"
      },
      "execution_count": 4,
      "outputs": [
        {
          "output_type": "stream",
          "name": "stdout",
          "text": [
            "['DESCR', 'data', 'data_module', 'feature_names', 'filename', 'frame', 'target', 'target_names']\n",
            "['sepal length (cm)', 'sepal width (cm)', 'petal length (cm)', 'petal width (cm)']\n",
            ".. _iris_dataset:\n",
            "\n",
            "Iris plants dataset\n",
            "--------------------\n",
            "\n",
            "**Data Set Characteristics:**\n",
            "\n",
            "    :Number of Instances: 150 (50 in each of three classes)\n",
            "    :Number of Attributes: 4 numeric, predictive attributes and the class\n",
            "    :Attribute Information:\n",
            "        - sepal length in cm\n",
            "        - sepal width in cm\n",
            "        - petal length in cm\n",
            "        - petal width in cm\n",
            "        - class:\n",
            "                - Iris-Setosa\n",
            "                - Iris-Versicolour\n",
            "                - Iris-Virginica\n",
            "                \n",
            "    :Summary Statistics:\n",
            "\n",
            "    ============== ==== ==== ======= ===== ====================\n",
            "                    Min  Max   Mean    SD   Class Correlation\n",
            "    ============== ==== ==== ======= ===== ====================\n",
            "    sepal length:   4.3  7.9   5.84   0.83    0.7826\n",
            "    sepal width:    2.0  4.4   3.05   0.43   -0.4194\n",
            "    petal length:   1.0  6.9   3.76   1.76    0.9490  (high!)\n",
            "    petal width:    0.1  2.5   1.20   0.76    0.9565  (high!)\n",
            "    ============== ==== ==== ======= ===== ====================\n",
            "\n",
            "    :Missing Attribute Values: None\n",
            "    :Class Distribution: 33.3% for each of 3 classes.\n",
            "    :Creator: R.A. Fisher\n",
            "    :Donor: Michael Marshall (MARSHALL%PLU@io.arc.nasa.gov)\n",
            "    :Date: July, 1988\n",
            "\n",
            "The famous Iris database, first used by Sir R.A. Fisher. The dataset is taken\n",
            "from Fisher's paper. Note that it's the same as in R, but not as in the UCI\n",
            "Machine Learning Repository, which has two wrong data points.\n",
            "\n",
            "This is perhaps the best known database to be found in the\n",
            "pattern recognition literature.  Fisher's paper is a classic in the field and\n",
            "is referenced frequently to this day.  (See Duda & Hart, for example.)  The\n",
            "data set contains 3 classes of 50 instances each, where each class refers to a\n",
            "type of iris plant.  One class is linearly separable from the other 2; the\n",
            "latter are NOT linearly separable from each other.\n",
            "\n",
            ".. topic:: References\n",
            "\n",
            "   - Fisher, R.A. \"The use of multiple measurements in taxonomic problems\"\n",
            "     Annual Eugenics, 7, Part II, 179-188 (1936); also in \"Contributions to\n",
            "     Mathematical Statistics\" (John Wiley, NY, 1950).\n",
            "   - Duda, R.O., & Hart, P.E. (1973) Pattern Classification and Scene Analysis.\n",
            "     (Q327.D83) John Wiley & Sons.  ISBN 0-471-22361-1.  See page 218.\n",
            "   - Dasarathy, B.V. (1980) \"Nosing Around the Neighborhood: A New System\n",
            "     Structure and Classification Rule for Recognition in Partially Exposed\n",
            "     Environments\".  IEEE Transactions on Pattern Analysis and Machine\n",
            "     Intelligence, Vol. PAMI-2, No. 1, 67-71.\n",
            "   - Gates, G.W. (1972) \"The Reduced Nearest Neighbor Rule\".  IEEE Transactions\n",
            "     on Information Theory, May 1972, 431-433.\n",
            "   - See also: 1988 MLC Proceedings, 54-64.  Cheeseman et al\"s AUTOCLASS II\n",
            "     conceptual clustering system finds 3 classes in the data.\n",
            "   - Many, many more ...\n"
          ]
        }
      ]
    },
    {
      "cell_type": "code",
      "source": [
        "X = iris_dataset.data\n",
        "X_std = StandardScaler().fit_transform(X)\n",
        "\n",
        "y = iris_dataset.target\n",
        "target_names = iris_dataset.target_names\n",
        "\n",
        "data = pd.DataFrame(data=X_std, columns=iris_dataset.feature_names)\n",
        "data['target'] = y\n",
        "data.head()"
      ],
      "metadata": {
        "colab": {
          "base_uri": "https://localhost:8080/",
          "height": 206
        },
        "id": "NT7CwBHIbiiZ",
        "outputId": "bc6bd614-5354-4cba-9111-51f57f2e0ed3"
      },
      "execution_count": 5,
      "outputs": [
        {
          "output_type": "execute_result",
          "data": {
            "text/plain": [
              "   sepal length (cm)  sepal width (cm)  petal length (cm)  petal width (cm)  \\\n",
              "0          -0.900681          1.019004          -1.340227         -1.315444   \n",
              "1          -1.143017         -0.131979          -1.340227         -1.315444   \n",
              "2          -1.385353          0.328414          -1.397064         -1.315444   \n",
              "3          -1.506521          0.098217          -1.283389         -1.315444   \n",
              "4          -1.021849          1.249201          -1.340227         -1.315444   \n",
              "\n",
              "   target  \n",
              "0       0  \n",
              "1       0  \n",
              "2       0  \n",
              "3       0  \n",
              "4       0  "
            ],
            "text/html": [
              "\n",
              "  <div id=\"df-a7c3f492-a461-4871-a41c-9eb1733a9512\">\n",
              "    <div class=\"colab-df-container\">\n",
              "      <div>\n",
              "<style scoped>\n",
              "    .dataframe tbody tr th:only-of-type {\n",
              "        vertical-align: middle;\n",
              "    }\n",
              "\n",
              "    .dataframe tbody tr th {\n",
              "        vertical-align: top;\n",
              "    }\n",
              "\n",
              "    .dataframe thead th {\n",
              "        text-align: right;\n",
              "    }\n",
              "</style>\n",
              "<table border=\"1\" class=\"dataframe\">\n",
              "  <thead>\n",
              "    <tr style=\"text-align: right;\">\n",
              "      <th></th>\n",
              "      <th>sepal length (cm)</th>\n",
              "      <th>sepal width (cm)</th>\n",
              "      <th>petal length (cm)</th>\n",
              "      <th>petal width (cm)</th>\n",
              "      <th>target</th>\n",
              "    </tr>\n",
              "  </thead>\n",
              "  <tbody>\n",
              "    <tr>\n",
              "      <th>0</th>\n",
              "      <td>-0.900681</td>\n",
              "      <td>1.019004</td>\n",
              "      <td>-1.340227</td>\n",
              "      <td>-1.315444</td>\n",
              "      <td>0</td>\n",
              "    </tr>\n",
              "    <tr>\n",
              "      <th>1</th>\n",
              "      <td>-1.143017</td>\n",
              "      <td>-0.131979</td>\n",
              "      <td>-1.340227</td>\n",
              "      <td>-1.315444</td>\n",
              "      <td>0</td>\n",
              "    </tr>\n",
              "    <tr>\n",
              "      <th>2</th>\n",
              "      <td>-1.385353</td>\n",
              "      <td>0.328414</td>\n",
              "      <td>-1.397064</td>\n",
              "      <td>-1.315444</td>\n",
              "      <td>0</td>\n",
              "    </tr>\n",
              "    <tr>\n",
              "      <th>3</th>\n",
              "      <td>-1.506521</td>\n",
              "      <td>0.098217</td>\n",
              "      <td>-1.283389</td>\n",
              "      <td>-1.315444</td>\n",
              "      <td>0</td>\n",
              "    </tr>\n",
              "    <tr>\n",
              "      <th>4</th>\n",
              "      <td>-1.021849</td>\n",
              "      <td>1.249201</td>\n",
              "      <td>-1.340227</td>\n",
              "      <td>-1.315444</td>\n",
              "      <td>0</td>\n",
              "    </tr>\n",
              "  </tbody>\n",
              "</table>\n",
              "</div>\n",
              "      <button class=\"colab-df-convert\" onclick=\"convertToInteractive('df-a7c3f492-a461-4871-a41c-9eb1733a9512')\"\n",
              "              title=\"Convert this dataframe to an interactive table.\"\n",
              "              style=\"display:none;\">\n",
              "        \n",
              "  <svg xmlns=\"http://www.w3.org/2000/svg\" height=\"24px\"viewBox=\"0 0 24 24\"\n",
              "       width=\"24px\">\n",
              "    <path d=\"M0 0h24v24H0V0z\" fill=\"none\"/>\n",
              "    <path d=\"M18.56 5.44l.94 2.06.94-2.06 2.06-.94-2.06-.94-.94-2.06-.94 2.06-2.06.94zm-11 1L8.5 8.5l.94-2.06 2.06-.94-2.06-.94L8.5 2.5l-.94 2.06-2.06.94zm10 10l.94 2.06.94-2.06 2.06-.94-2.06-.94-.94-2.06-.94 2.06-2.06.94z\"/><path d=\"M17.41 7.96l-1.37-1.37c-.4-.4-.92-.59-1.43-.59-.52 0-1.04.2-1.43.59L10.3 9.45l-7.72 7.72c-.78.78-.78 2.05 0 2.83L4 21.41c.39.39.9.59 1.41.59.51 0 1.02-.2 1.41-.59l7.78-7.78 2.81-2.81c.8-.78.8-2.07 0-2.86zM5.41 20L4 18.59l7.72-7.72 1.47 1.35L5.41 20z\"/>\n",
              "  </svg>\n",
              "      </button>\n",
              "      \n",
              "  <style>\n",
              "    .colab-df-container {\n",
              "      display:flex;\n",
              "      flex-wrap:wrap;\n",
              "      gap: 12px;\n",
              "    }\n",
              "\n",
              "    .colab-df-convert {\n",
              "      background-color: #E8F0FE;\n",
              "      border: none;\n",
              "      border-radius: 50%;\n",
              "      cursor: pointer;\n",
              "      display: none;\n",
              "      fill: #1967D2;\n",
              "      height: 32px;\n",
              "      padding: 0 0 0 0;\n",
              "      width: 32px;\n",
              "    }\n",
              "\n",
              "    .colab-df-convert:hover {\n",
              "      background-color: #E2EBFA;\n",
              "      box-shadow: 0px 1px 2px rgba(60, 64, 67, 0.3), 0px 1px 3px 1px rgba(60, 64, 67, 0.15);\n",
              "      fill: #174EA6;\n",
              "    }\n",
              "\n",
              "    [theme=dark] .colab-df-convert {\n",
              "      background-color: #3B4455;\n",
              "      fill: #D2E3FC;\n",
              "    }\n",
              "\n",
              "    [theme=dark] .colab-df-convert:hover {\n",
              "      background-color: #434B5C;\n",
              "      box-shadow: 0px 1px 3px 1px rgba(0, 0, 0, 0.15);\n",
              "      filter: drop-shadow(0px 1px 2px rgba(0, 0, 0, 0.3));\n",
              "      fill: #FFFFFF;\n",
              "    }\n",
              "  </style>\n",
              "\n",
              "      <script>\n",
              "        const buttonEl =\n",
              "          document.querySelector('#df-a7c3f492-a461-4871-a41c-9eb1733a9512 button.colab-df-convert');\n",
              "        buttonEl.style.display =\n",
              "          google.colab.kernel.accessAllowed ? 'block' : 'none';\n",
              "\n",
              "        async function convertToInteractive(key) {\n",
              "          const element = document.querySelector('#df-a7c3f492-a461-4871-a41c-9eb1733a9512');\n",
              "          const dataTable =\n",
              "            await google.colab.kernel.invokeFunction('convertToInteractive',\n",
              "                                                     [key], {});\n",
              "          if (!dataTable) return;\n",
              "\n",
              "          const docLinkHtml = 'Like what you see? Visit the ' +\n",
              "            '<a target=\"_blank\" href=https://colab.research.google.com/notebooks/data_table.ipynb>data table notebook</a>'\n",
              "            + ' to learn more about interactive tables.';\n",
              "          element.innerHTML = '';\n",
              "          dataTable['output_type'] = 'display_data';\n",
              "          await google.colab.output.renderOutput(dataTable, element);\n",
              "          const docLink = document.createElement('div');\n",
              "          docLink.innerHTML = docLinkHtml;\n",
              "          element.appendChild(docLink);\n",
              "        }\n",
              "      </script>\n",
              "    </div>\n",
              "  </div>\n",
              "  "
            ]
          },
          "metadata": {},
          "execution_count": 5
        }
      ]
    },
    {
      "cell_type": "code",
      "source": [
        "print(data.count(), '\\n')\n",
        "print(pd.isnull(data.any()), '\\n')\n",
        "print(data.info())"
      ],
      "metadata": {
        "colab": {
          "base_uri": "https://localhost:8080/"
        },
        "id": "VRE0YxzDcGo5",
        "outputId": "c08343d6-d69b-4364-8a1d-5aa4d2d7b795"
      },
      "execution_count": 6,
      "outputs": [
        {
          "output_type": "stream",
          "name": "stdout",
          "text": [
            "sepal length (cm)    150\n",
            "sepal width (cm)     150\n",
            "petal length (cm)    150\n",
            "petal width (cm)     150\n",
            "target               150\n",
            "dtype: int64 \n",
            "\n",
            "sepal length (cm)    False\n",
            "sepal width (cm)     False\n",
            "petal length (cm)    False\n",
            "petal width (cm)     False\n",
            "target               False\n",
            "dtype: bool \n",
            "\n",
            "<class 'pandas.core.frame.DataFrame'>\n",
            "RangeIndex: 150 entries, 0 to 149\n",
            "Data columns (total 5 columns):\n",
            " #   Column             Non-Null Count  Dtype  \n",
            "---  ------             --------------  -----  \n",
            " 0   sepal length (cm)  150 non-null    float64\n",
            " 1   sepal width (cm)   150 non-null    float64\n",
            " 2   petal length (cm)  150 non-null    float64\n",
            " 3   petal width (cm)   150 non-null    float64\n",
            " 4   target             150 non-null    int64  \n",
            "dtypes: float64(4), int64(1)\n",
            "memory usage: 6.0 KB\n",
            "None\n"
          ]
        }
      ]
    },
    {
      "cell_type": "markdown",
      "source": [
        "# Applying Principal Component Analysis (PCA)\n",
        "https://scikit-learn.org/stable/modules/decomposition.html#principal-component-analysis-pca\n"
      ],
      "metadata": {
        "id": "wi29qT_DnOcB"
      }
    },
    {
      "cell_type": "code",
      "source": [
        "# applying the PCA to represent the dataset with 2 dimensions instead of 4\n",
        "# https://scikit-learn.org/stable/modules/decomposition.html#principal-component-analysis-pca\n",
        "\n",
        "pca = PCA(n_components=2)\n",
        "X_r = pca.fit(X).transform(X_std)\n",
        "print(str(pca.explained_variance_))"
      ],
      "metadata": {
        "colab": {
          "base_uri": "https://localhost:8080/"
        },
        "id": "SXHCg_vKe4N9",
        "outputId": "0ead657c-aa8e-4783-82e6-f88e9c1d1672"
      },
      "execution_count": 7,
      "outputs": [
        {
          "output_type": "stream",
          "name": "stdout",
          "text": [
            "[4.22824171 0.24267075]\n"
          ]
        }
      ]
    },
    {
      "cell_type": "code",
      "source": [
        "plt.style.use('dark_background')\n",
        "plt.figure(figsize=[12, 6])\n",
        "plt.title('Iris dataset after applying the PCA (Real classification).', fontsize=16, pad=16)\n",
        "\n",
        "colors = ['red', 'blue', 'green']\n",
        "for color, i, target_name in zip(colors, [0,1,2], target_names):\n",
        "  plt.scatter(X_r[y==i, 0], X_r[y==i, 1], color=color, label=target_name, s=60)\n",
        "plt.legend(loc='best')\n",
        "\n",
        "plt.show()"
      ],
      "metadata": {
        "colab": {
          "base_uri": "https://localhost:8080/",
          "height": 402
        },
        "id": "C1a6XgiKgY85",
        "outputId": "dfd2e910-6b65-479e-8d93-55777fa728d4"
      },
      "execution_count": 8,
      "outputs": [
        {
          "output_type": "display_data",
          "data": {
            "text/plain": [
              "<Figure size 864x432 with 1 Axes>"
            ],
            "image/png": "[encoded data removed]"
          },
          "metadata": {}
        }
      ]
    },
    {
      "cell_type": "code",
      "source": [
        "np.random.randint(0, 149)"
      ],
      "metadata": {
        "colab": {
          "base_uri": "https://localhost:8080/"
        },
        "id": "zeJ5jPzWwWIf",
        "outputId": "9c576fdf-89f9-4e5e-d49a-f6deabdf2873"
      },
      "execution_count": 9,
      "outputs": [
        {
          "output_type": "execute_result",
          "data": {
            "text/plain": [
              "84"
            ]
          },
          "metadata": {},
          "execution_count": 9
        }
      ]
    },
    {
      "cell_type": "markdown",
      "source": [
        "# K-Means algorithm"
      ],
      "metadata": {
        "id": "kQRd_Szsu1M5"
      }
    },
    {
      "cell_type": "code",
      "source": [
        "class K_means():\n",
        "  def __init__(self, k, data):\n",
        "    self.k = k\n",
        "    self.data = self.init_data(data)\n",
        "    self.clusters = self.init_clusters()\n",
        "  \n",
        "  def init_data(self, data):\n",
        "    cols = ['x', 'y']\n",
        "    df = pd.DataFrame(data=data, columns=cols)\n",
        "    df = df.assign(cluster=None)\n",
        "\n",
        "    return df\n",
        "\n",
        "  def init_clusters(self):\n",
        "    rand_indexes = np.random.randint(0, self.data.shape[0]-1, size=self.k)\n",
        "    clusters = []\n",
        "\n",
        "    for index in rand_indexes:\n",
        "      centroid = [self.data.iloc[index].x, self.data.iloc[index].y]\n",
        "      clusters.append(centroid)\n",
        "\n",
        "    return np.array(clusters)\n",
        "  \n",
        "  def assign_to_clusters(self):\n",
        "    for index, row in self.data.iterrows():\n",
        "      data_point = np.array([row['x'], row['y']])\n",
        "      nearest_cluster = self.calc_nearest_cluster(data_point)\n",
        "      self.data.at[index, 'cluster'] = nearest_cluster\n",
        "  \n",
        "  def calc_nearest_cluster(self, data_point):\n",
        "    nearest_dist = math.inf\n",
        "    for i in range(self.k):\n",
        "      dist = self.calc_euclidean_distance(self.clusters[i], data_point)\n",
        "      if(dist < nearest_dist):\n",
        "        nearest_dist = dist\n",
        "        nearest_cluster = i\n",
        "      \n",
        "    return nearest_cluster\n",
        "\n",
        "  def calc_euclidean_distance(self, cluster_coord, data_coord):\n",
        "    dist = np.linalg.norm(cluster_coord - data_coord)\n",
        "    \n",
        "    return dist\n",
        "\n",
        "  def recalculate_centroids(self):    \n",
        "    for i in range(self.k):\n",
        "      cl = self.data[self.data['cluster'] == i]\n",
        "      x_mean = cl.x.sum() / cl.x.count()\n",
        "      y_mean = cl.y.sum() / cl.y.count()\n",
        "      self.clusters[i] = np.array([x_mean, y_mean])\n",
        "\n",
        "  def kmeans(self):\n",
        "    self.assign_to_clusters()\n",
        "    it=0\n",
        "    while(True):\n",
        "      old_centroids = np.copy(self.clusters)\n",
        "      self.recalculate_centroids()\n",
        "      if(np.array_equal(old_centroids, self.clusters)):\n",
        "        # no change in the centroids, algorithm should stop now\n",
        "        break      \n",
        "      self.assign_to_clusters()\n",
        "      it+=1\n",
        "\n",
        "    print(f'KMeans completed.\\nNumber of iterations: {it}\\nTotal clusters: {self.k}')\n",
        "  \n",
        "  # \n",
        "  # TODO\n",
        "  # \n",
        "  # elbow_method for determining the best value for k\n",
        "  # "
      ],
      "metadata": {
        "id": "FWJ2bKBLu4Es"
      },
      "execution_count": 10,
      "outputs": []
    },
    {
      "cell_type": "code",
      "source": [
        "kmeans = K_means(3, X_r)\n",
        "kmeans.kmeans()"
      ],
      "metadata": {
        "id": "3VY1hJ_svkYQ",
        "colab": {
          "base_uri": "https://localhost:8080/"
        },
        "outputId": "1744f749-cc01-4447-cae4-e836346e5ec0"
      },
      "execution_count": 11,
      "outputs": [
        {
          "output_type": "stream",
          "name": "stdout",
          "text": [
            "KMeans completed.\n",
            "Number of iterations: 7\n",
            "Total clusters: 3\n"
          ]
        }
      ]
    },
    {
      "cell_type": "code",
      "source": [
        "cls0 = kmeans.data[kmeans.data['cluster'] == 0]\n",
        "cls1 = kmeans.data[kmeans.data['cluster'] == 1]\n",
        "cls2 = kmeans.data[kmeans.data['cluster'] == 2]"
      ],
      "metadata": {
        "id": "QIk6T_GGIDHo"
      },
      "execution_count": 12,
      "outputs": []
    },
    {
      "cell_type": "code",
      "source": [
        "plt.style.use('dark_background')\n",
        "plt.figure(figsize=[12, 6])\n",
        "plt.title('Iris dataset classified using the k-means clustering algorithm.', fontsize=16, pad=16)\n",
        "\n",
        "plt.scatter(cls0.x, cls0.y, color='red', label=f'Cluster 0', s=60)\n",
        "plt.scatter(cls1.x, cls1.y, color='green', label='Cluster 1', s=60)\n",
        "plt.scatter(cls2.x, cls2.y, color='blue', label='Cluster 2', s=60)\n",
        "\n",
        "plt.legend(loc='best')\n",
        "plt.show()"
      ],
      "metadata": {
        "colab": {
          "base_uri": "https://localhost:8080/",
          "height": 402
        },
        "id": "i1ye8f5Eov8M",
        "outputId": "a7904ee5-785b-4b68-f83f-d800396d9662"
      },
      "execution_count": 13,
      "outputs": [
        {
          "output_type": "display_data",
          "data": {
            "text/plain": [
              "<Figure size 864x432 with 1 Axes>"
            ],
            "image/png": "[encoded data removed]"
          },
          "metadata": {}
        }
      ]
    }
  ]
}