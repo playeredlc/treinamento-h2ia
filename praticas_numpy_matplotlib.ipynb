{
  "nbformat": 4,
  "nbformat_minor": 0,
  "metadata": {
    "colab": {
      "name": "praticas_numpy_matplotlib.ipynb",
      "provenance": [],
      "collapsed_sections": [],
      "toc_visible": true,
      "authorship_tag": "ABX9TyPfw6jD8cNGJH1+wYPdAQd+",
      "include_colab_link": true
    },
    "kernelspec": {
      "name": "python3",
      "display_name": "Python 3"
    },
    "language_info": {
      "name": "python"
    }
  },
  "cells": [
    {
      "cell_type": "markdown",
      "metadata": {
        "id": "view-in-github",
        "colab_type": "text"
      },
      "source": [
        "<a href=\"https://colab.research.google.com/github/playeredlc/treinamento-h2ia/blob/master/praticas_numpy_matplotlib.ipynb\" target=\"_parent\"><img src=\"https://colab.research.google.com/assets/colab-badge.svg\" alt=\"Open In Colab\"/></a>"
      ]
    },
    {
      "cell_type": "code",
      "execution_count": 1,
      "metadata": {
        "id": "JL5awEoT-wlI"
      },
      "outputs": [],
      "source": [
        "import numpy as np"
      ]
    },
    {
      "cell_type": "markdown",
      "source": [
        "# Numpy"
      ],
      "metadata": {
        "id": "KcUB4CmNBPze"
      }
    },
    {
      "cell_type": "markdown",
      "source": [
        "## Arrays\n",
        "\n",
        "**Termos utilizados:**\n",
        "\n",
        "*Rank* - Número de dimensões do array.\n",
        "\n",
        "*Shape* - Tupla de inteiros que representa o tamanho do array em cada dimensão."
      ],
      "metadata": {
        "id": "_X_lDEK7BVB3"
      }
    },
    {
      "cell_type": "markdown",
      "source": [
        "### Criação e acesso"
      ],
      "metadata": {
        "id": "e3FR4KVAM6T9"
      }
    },
    {
      "cell_type": "code",
      "source": [
        "# np.array pode ser criado a partir de uma list (tipo de dado nativo do python)\n",
        "rank1_arr = np.array([1, 2, 3])\n",
        "# no caso de mais dimensões cada elemento da list é uma list.\n",
        "rank2_arr = np.array([[1, 2, 3], [4, 5 ,6]])\n",
        "\n",
        "print(f'Rank 1 array. Shape: {rank1_arr.shape}.')\n",
        "print(rank1_arr)\n",
        "\n",
        "print(f'\\nRank 2 array. Shape: {rank2_arr.shape}.')\n",
        "print(rank2_arr)\n",
        "\n",
        "# acesso e modificação de elemento específico\n",
        "print('\\nAcesso ao elemento lin: 1, col: 2:')\n",
        "print(rank2_arr[1, 2])\n",
        "\n",
        "print('Atribuição de novo valor:')\n",
        "rank2_arr[1, 2] = 0\n",
        "print(rank2_arr[1, 2])\n",
        "\n",
        "print(f'\\nRank 2 array:')\n",
        "print(rank2_arr)\n"
      ],
      "metadata": {
        "colab": {
          "base_uri": "https://localhost:8080/"
        },
        "id": "IXuYzcJp_XL3",
        "outputId": "10a94c3d-f893-40ce-ffe7-425c8a0c9821"
      },
      "execution_count": 2,
      "outputs": [
        {
          "output_type": "stream",
          "name": "stdout",
          "text": [
            "Rank 1 array. Shape: (3,).\n",
            "[1 2 3]\n",
            "\n",
            "Rank 2 array. Shape: (2, 3).\n",
            "[[1 2 3]\n",
            " [4 5 6]]\n",
            "\n",
            "Acesso ao elemento lin: 1, col: 2:\n",
            "6\n",
            "Atribuição de novo valor:\n",
            "0\n",
            "\n",
            "Rank 2 array:\n",
            "[[1 2 3]\n",
            " [4 5 0]]\n"
          ]
        }
      ]
    },
    {
      "cell_type": "markdown",
      "source": [
        "### Métodos de inicialização"
      ],
      "metadata": {
        "id": "kujOTuI8NCAv"
      }
    },
    {
      "cell_type": "code",
      "source": [
        "# diferentes métodos de inicialização de numpy.arrays\n",
        "\n",
        "# array preenchido com 0 em todas as posições\n",
        "arr = np.zeros((2, 3))\n",
        "print(f'Zeros:\\n{arr}\\n')\n",
        "\n",
        "# array preenchido com 1 em todas as posições\n",
        "arr = np.ones((2, 3))\n",
        "print(f'Ones:\\n{arr}\\n')\n",
        "\n",
        "# array preenchido com uma constante\n",
        "arr = np.full((2, 3), 1.23)\n",
        "print(f'Full (constante):\\n{arr}\\n')\n",
        "\n",
        "# array preenchido com valores aleatórios (0 - 1)\n",
        "arr = np.random.random((2, 3))\n",
        "print(f'Random:\\n{arr}\\n')\n",
        "\n",
        "# matriz identidade de nxn dimensões\n",
        "n = 3\n",
        "arr = np.eye(n)\n",
        "print(f'Eye (matriz identidade):\\n{arr}')"
      ],
      "metadata": {
        "id": "vuoRZdxs_dUm",
        "colab": {
          "base_uri": "https://localhost:8080/"
        },
        "outputId": "dbe6f73d-54b4-400e-f9f3-9a85e1deaaa5"
      },
      "execution_count": 3,
      "outputs": [
        {
          "output_type": "stream",
          "name": "stdout",
          "text": [
            "Zeros:\n",
            "[[0. 0. 0.]\n",
            " [0. 0. 0.]]\n",
            "\n",
            "Ones:\n",
            "[[1. 1. 1.]\n",
            " [1. 1. 1.]]\n",
            "\n",
            "Full (constante):\n",
            "[[1.23 1.23 1.23]\n",
            " [1.23 1.23 1.23]]\n",
            "\n",
            "Random:\n",
            "[[0.49352304 0.99540429 0.39695478]\n",
            " [0.7884413  0.96383833 0.86903411]]\n",
            "\n",
            "Eye (matriz identidade):\n",
            "[[1. 0. 0.]\n",
            " [0. 1. 0.]\n",
            " [0. 0. 1.]]\n"
          ]
        }
      ]
    },
    {
      "cell_type": "markdown",
      "source": [
        "### Indexação"
      ],
      "metadata": {
        "id": "VRBiARuNNxB6"
      }
    },
    {
      "cell_type": "markdown",
      "source": [
        "#### Slicing\n",
        "\n",
        "Utilizar slicing permite indexar um sub-array do array original, definindo um intervalo específico de linhas e colunas a ser indexado."
      ],
      "metadata": {
        "id": "x9oFSLP-Yywt"
      }
    },
    {
      "cell_type": "code",
      "source": [
        "# SLICING\n",
        "\n",
        "arr = np.array([[1,2,3,4], [5,6,7,8], [9,10,11,12], [13, 14, 15, 16]])\n",
        "print('Array original')\n",
        "print(arr, '\\n')\n",
        "\n",
        "\n",
        "print('2 primeiras linhas e 3 primeiras colunas')\n",
        "print(arr[:2, :3], '\\n')\n",
        "\n",
        "print('indexar a partir da segunda linha e segunda coluna (ignorando a primeira)')\n",
        "print(arr[1:, 1:], '\\n')\n",
        "\n",
        "print('ignorar primeiras e últimas colunas.')\n",
        "print(arr[1:arr.shape[0]-1, 1:arr.shape[1]-1], '\\n')\n",
        "\n",
        "print('modificações afetam o array original')\n",
        "arr[1:arr.shape[0]-1, 1:arr.shape[1]-1] = 0\n",
        "\n",
        "print(arr, '\\n')"
      ],
      "metadata": {
        "colab": {
          "base_uri": "https://localhost:8080/"
        },
        "id": "HPzfPWi2Nzxb",
        "outputId": "fecacb45-0018-485d-fd7c-dc3ccf4b4b63"
      },
      "execution_count": 4,
      "outputs": [
        {
          "output_type": "stream",
          "name": "stdout",
          "text": [
            "Array original\n",
            "[[ 1  2  3  4]\n",
            " [ 5  6  7  8]\n",
            " [ 9 10 11 12]\n",
            " [13 14 15 16]] \n",
            "\n",
            "2 primeiras linhas e 3 primeiras colunas\n",
            "[[1 2 3]\n",
            " [5 6 7]] \n",
            "\n",
            "indexar a partir da segunda linha e segunda coluna (ignorando a primeira)\n",
            "[[ 6  7  8]\n",
            " [10 11 12]\n",
            " [14 15 16]] \n",
            "\n",
            "ignorar primeiras e últimas colunas.\n",
            "[[ 6  7]\n",
            " [10 11]] \n",
            "\n",
            "modificações afetam o array original\n",
            "[[ 1  2  3  4]\n",
            " [ 5  0  0  8]\n",
            " [ 9  0  0 12]\n",
            " [13 14 15 16]] \n",
            "\n"
          ]
        }
      ]
    },
    {
      "cell_type": "markdown",
      "source": [
        "#### Utilizando inteiros\n",
        "\n",
        "Utilizando inteiros para fazer a indexação, é possível selecionar elementos arbitrários do array original a serem utilizados na construção de outros.\n"
      ],
      "metadata": {
        "id": "Y7fmtd6RZeaY"
      }
    },
    {
      "cell_type": "code",
      "source": [
        "# UTILIZANDO INTEIROS\n",
        "\n",
        "arr = np.array([[1,2,3,4], [5,6,7,8], [9,10,11,12], [13, 14, 15, 16]])\n",
        "print('Array original')\n",
        "print(arr, '\\n')\n",
        "\n",
        "# os elementos com mesmo índice nas 2 duas listas representam os valores para linha e coluna\n",
        "print('acessando os elementos da diagonal principal:')\n",
        "print(arr[[0,1,2,3], [0,1,2,3]], '\\n')\n",
        "\n",
        "# é possível 'filtrar' um elemento de cada linha utilizando uma lista de indices\n",
        "index_list = [0, 1, 2, 3]\n",
        "print('acessando diagonal principal com lista de indices:')\n",
        "print(arr[np.arange(4), index_list], '\\n')\n",
        "\n",
        "# da mesma forma é possível modificar os elementos\n",
        "arr[np.arange(4), index_list] = 0\n",
        "print('zerando a diagonal principal:')\n",
        "print(arr, '\\n')\n"
      ],
      "metadata": {
        "colab": {
          "base_uri": "https://localhost:8080/"
        },
        "id": "iRMWqDkoPZt9",
        "outputId": "63a714c3-bfaf-449a-a027-96c0ce2ad593"
      },
      "execution_count": 5,
      "outputs": [
        {
          "output_type": "stream",
          "name": "stdout",
          "text": [
            "Array original\n",
            "[[ 1  2  3  4]\n",
            " [ 5  6  7  8]\n",
            " [ 9 10 11 12]\n",
            " [13 14 15 16]] \n",
            "\n",
            "acessando os elementos da diagonal principal:\n",
            "[ 1  6 11 16] \n",
            "\n",
            "acessando diagonal principal com lista de indices:\n",
            "[ 1  6 11 16] \n",
            "\n",
            "zerando a diagonal principal:\n",
            "[[ 0  2  3  4]\n",
            " [ 5  0  7  8]\n",
            " [ 9 10  0 12]\n",
            " [13 14 15  0]] \n",
            "\n"
          ]
        }
      ]
    },
    {
      "cell_type": "markdown",
      "source": [
        "#### Utilizando booleanos\n",
        "\n",
        "O uso de booleanos permite indexar elementos arbitrários do array que satisfaçam uma determinada condição lógica."
      ],
      "metadata": {
        "id": "LzuqTlTAlu2m"
      }
    },
    {
      "cell_type": "code",
      "source": [
        "# UTILIZANDO BOOLEAN\n",
        "\n",
        "arr = np.array([[1,2,3,4], [5,6,7,8], [9,10,11,12], [13, 14, 15, 16]])\n",
        "print('Array original')\n",
        "print(arr, '\\n')\n",
        "\n",
        "print('elementos > 5 recebem o valor True')\n",
        "print(arr > 5, '\\n')\n",
        "\n",
        "print('elementos pares recebem o valor True:')\n",
        "print(arr%2 == 0, '\\n')\n",
        "\n",
        "print('utilizando o array resultante obter os valores reais:')\n",
        "print(arr[arr%2==0], '\\n')\n"
      ],
      "metadata": {
        "colab": {
          "base_uri": "https://localhost:8080/"
        },
        "id": "9UnqAV05TcSm",
        "outputId": "ad568a0d-d444-4f4f-e170-8d8e3e6ebb24"
      },
      "execution_count": 6,
      "outputs": [
        {
          "output_type": "stream",
          "name": "stdout",
          "text": [
            "Array original\n",
            "[[ 1  2  3  4]\n",
            " [ 5  6  7  8]\n",
            " [ 9 10 11 12]\n",
            " [13 14 15 16]] \n",
            "\n",
            "elementos > 5 recebem o valor True\n",
            "[[False False False False]\n",
            " [False  True  True  True]\n",
            " [ True  True  True  True]\n",
            " [ True  True  True  True]] \n",
            "\n",
            "elementos pares recebem o valor True:\n",
            "[[False  True False  True]\n",
            " [False  True False  True]\n",
            " [False  True False  True]\n",
            " [False  True False  True]] \n",
            "\n",
            "utilizando o array resultante obter os valores reais:\n",
            "[ 2  4  6  8 10 12 14 16] \n",
            "\n"
          ]
        }
      ]
    },
    {
      "cell_type": "markdown",
      "source": [
        "### Operações Matemáticas\n",
        "\n",
        "As operações matemáticas realizadas nos arrays são feitas elemento a elemento e podem ser utilizadas por meio dos operadores convencionais (existe sobrecarga de operadores) ou utilizando os métodos disponíveis para objetos do tipo array. O módulo do numpy também implementa diversas operações úteis como funções, uma delas é a função *sum()* vista abaixo.\n"
      ],
      "metadata": {
        "id": "YHwO9oIdqXIT"
      }
    },
    {
      "cell_type": "code",
      "source": [
        "# função sum() do módulo numpy\n",
        "\n",
        "arr = np.array([[1,2,3,4], [5,6,7,8], [9,10,11,12], [13, 14, 15, 16]])\n",
        "print('Array original')\n",
        "print(arr, '\\n')\n",
        "\n",
        "print('Soma de todos os elementos do array:')\n",
        "print(np.sum(arr), '\\n')\n",
        "\n",
        "print('Soma de todos os elementos POR LINHA:')\n",
        "print(np.sum(arr, axis=1), '\\n')\n",
        "\n",
        "print('Soma de todos os elementos POR COLUNA:')\n",
        "print(np.sum(arr, axis=0), '\\n')"
      ],
      "metadata": {
        "colab": {
          "base_uri": "https://localhost:8080/"
        },
        "id": "XS7CWUCgrDly",
        "outputId": "20909d74-322e-48e6-df3c-93f077e26a1d"
      },
      "execution_count": 7,
      "outputs": [
        {
          "output_type": "stream",
          "name": "stdout",
          "text": [
            "Array original\n",
            "[[ 1  2  3  4]\n",
            " [ 5  6  7  8]\n",
            " [ 9 10 11 12]\n",
            " [13 14 15 16]] \n",
            "\n",
            "Soma de todos os elementos do array:\n",
            "136 \n",
            "\n",
            "Soma de todos os elementos POR LINHA:\n",
            "[10 26 42 58] \n",
            "\n",
            "Soma de todos os elementos POR COLUNA:\n",
            "[28 32 36 40] \n",
            "\n"
          ]
        }
      ]
    },
    {
      "cell_type": "code",
      "source": [
        "# multiplicação de matrizes\n",
        "\n",
        "arr = np.array([[1,2], [3,4]])\n",
        "print('Array original')\n",
        "print(arr, '\\n')\n",
        "\n",
        "print('Multiplicação elemento a elemento')\n",
        "print(arr * arr, '\\n')\n",
        "# ou\n",
        "print(np.multiply(arr, arr), '\\n')\n",
        "\n",
        "# para realizar o produto de matrizes de fato utiliza-se o método dot(print(arr.dot(arr), '\\n')\n",
        "print(arr.dot(arr), '\\n')\n",
        "# ou\n",
        "print(np.dot(arr, arr), '\\n')"
      ],
      "metadata": {
        "colab": {
          "base_uri": "https://localhost:8080/"
        },
        "id": "AvyaGkadwoUQ",
        "outputId": "78ada745-bbf1-4c85-d569-89bcf2416572"
      },
      "execution_count": 8,
      "outputs": [
        {
          "output_type": "stream",
          "name": "stdout",
          "text": [
            "Array original\n",
            "[[1 2]\n",
            " [3 4]] \n",
            "\n",
            "Multiplicação elemento a elemento\n",
            "[[ 1  4]\n",
            " [ 9 16]] \n",
            "\n",
            "[[ 1  4]\n",
            " [ 9 16]] \n",
            "\n",
            "[[ 7 10]\n",
            " [15 22]] \n",
            "\n",
            "[[ 7 10]\n",
            " [15 22]] \n",
            "\n"
          ]
        }
      ]
    },
    {
      "cell_type": "markdown",
      "source": [
        "### Broadcasting\n",
        "\n",
        "Esse termo diz respeito a forma com que o numpy realiza operações elemento a elemento quando os arrays envolvidos não possuem o mesmo shape.\n",
        "\n",
        "Esse mecanismo permite que essas operações com matrizes sejam vetorizadas e sejam executadas em C ao invés de Python, gerando um ganho de performance. A forma com que é implementado também garante que não haja uso desnecessário de memória com dados redundantes, caso os shapes dos arrays envolvidos atendam a algumas regras de compatibilidade."
      ],
      "metadata": {
        "id": "IKKBpxSG3Bta"
      }
    },
    {
      "cell_type": "code",
      "source": [
        "# exemplo de soma elemento a elemento onde os arrays são compatíveis\n",
        "\n",
        "bigger_arr = np.array([[0, 0, 0],\n",
        "                         [10, 10, 10],\n",
        "                         [20, 20, 20],\n",
        "                         [30, 30, 30]])\n",
        "print(f'Array maior. Shape: {bigger_arr.shape}')\n",
        "print(bigger_arr, '\\n')\n",
        "\n",
        "smaller_arr = np.array([1, 2, 3])\n",
        "print(f'Array menor. Shape: {smaller_arr.shape}')\n",
        "print(smaller_arr, '\\n')\n",
        "\n",
        "# a soma ocorre normalmente\n",
        "print('bigger + smaller:')\n",
        "print(bigger_arr + smaller_arr, '\\n')\n",
        "\n",
        "\n",
        "print('---')\n",
        "# exemplo de array incompatível\n",
        "smaller_arr_incomp = np.array([1,2,3,4])\n",
        "\n",
        "print(f'Array menor incompatível. Shape: {smaller_arr_incomp.shape}', '\\n')\n",
        "\n",
        "print('bigger + smaller (incompatibles):', '\\n')\n",
        "try:\n",
        "  print(bigger_arr + smaller_arr_incomp)\n",
        "except Exception as e:\n",
        "  print('Ocorreu um erro:')\n",
        "  print(e)\n"
      ],
      "metadata": {
        "colab": {
          "base_uri": "https://localhost:8080/"
        },
        "id": "15yOqtsU3E17",
        "outputId": "800a2f75-f1bf-4b7a-eb19-fcdae8780f15"
      },
      "execution_count": 9,
      "outputs": [
        {
          "output_type": "stream",
          "name": "stdout",
          "text": [
            "Array maior. Shape: (4, 3)\n",
            "[[ 0  0  0]\n",
            " [10 10 10]\n",
            " [20 20 20]\n",
            " [30 30 30]] \n",
            "\n",
            "Array menor. Shape: (3,)\n",
            "[1 2 3] \n",
            "\n",
            "bigger + smaller:\n",
            "[[ 1  2  3]\n",
            " [11 12 13]\n",
            " [21 22 23]\n",
            " [31 32 33]] \n",
            "\n",
            "---\n",
            "Array menor incompatível. Shape: (4,) \n",
            "\n",
            "bigger + smaller (incompatibles): \n",
            "\n",
            "Ocorreu um erro:\n",
            "operands could not be broadcast together with shapes (4,3) (4,) \n"
          ]
        }
      ]
    }
  ]
}