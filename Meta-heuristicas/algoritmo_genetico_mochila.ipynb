{
  "nbformat": 4,
  "nbformat_minor": 0,
  "metadata": {
    "colab": {
      "name": "genalg_h2ia.ipynb",
      "provenance": [],
      "collapsed_sections": [],
      "authorship_tag": "ABX9TyMJyUhqKQgP1vDFeE/o+z3J",
      "include_colab_link": true
    },
    "kernelspec": {
      "name": "python3",
      "display_name": "Python 3"
    },
    "language_info": {
      "name": "python"
    }
  },
  "cells": [
    {
      "cell_type": "markdown",
      "metadata": {
        "id": "view-in-github",
        "colab_type": "text"
      },
      "source": [
        "<a href=\"https://colab.research.google.com/github/playeredlc/treinamento-h2ia/blob/master/Meta-heuristicas/algoritmo_genetico_mochila.ipynb\" target=\"_parent\"><img src=\"https://colab.research.google.com/assets/colab-badge.svg\" alt=\"Open In Colab\"/></a>"
      ]
    },
    {
      "cell_type": "code",
      "execution_count": 1,
      "metadata": {
        "id": "TKi5gUgnkOPl"
      },
      "outputs": [],
      "source": [
        "# Metaheuristics\n",
        "# Solving the Knapsack problem using Genetic Algorithm"
      ]
    },
    {
      "cell_type": "code",
      "source": [
        "import math\n",
        "import numpy as np"
      ],
      "metadata": {
        "id": "WssA2ukiw0U8"
      },
      "execution_count": 2,
      "outputs": []
    },
    {
      "cell_type": "code",
      "source": [
        "class Knapsack:\n",
        "  def __init__(self, weights, values, weight_limit):\n",
        "    self.weights = weights\n",
        "    self.values = values\n",
        "    self.weight_limit = weight_limit\n",
        "    self.items_amount = len(self.weights)\n",
        "    self.solution = None\n",
        "\n",
        "    def set_solution(self, solution):\n",
        "      self.solution = solution"
      ],
      "metadata": {
        "id": "HuyBJQcNkVhH"
      },
      "execution_count": 3,
      "outputs": []
    },
    {
      "cell_type": "code",
      "source": [
        "class Chromosome:\n",
        "  def __init__(self, size, genes=None):\n",
        "    self.size = size\n",
        "    \n",
        "    if(genes == None):\n",
        "      self.genes = self.generate_random_genes()\n",
        "    else:\n",
        "      self.set_genes(genes)\n",
        "    \n",
        "    self.fitness = None\n",
        "\n",
        "  def generate_random_genes(self):\n",
        "    genes = np.zeros(self.size, dtype=int)\n",
        "    for i in range(self.size):\n",
        "      genes[i] = np.random.randint(0, 2)\n",
        "    \n",
        "    return genes\n",
        "  \n",
        "  def set_genes(self, genes):\n",
        "    self.genes = np.array(genes)\n",
        "\n",
        "  def set_fitness(self, fitness):\n",
        "    self.fitness = fitness\n",
        "\n",
        "  def mutate(self, num_genes=1):\n",
        "    for _ in range(num_genes):        \n",
        "      random_gene = np.random.randint(0, self.size)\n",
        "      if(self.genes[random_gene] == 0):\n",
        "        self.genes[random_gene] = 1\n",
        "      else:\n",
        "        self.genes[random_gene] = 0\n",
        "      "
      ],
      "metadata": {
        "id": "WwHGiyzKwyP5"
      },
      "execution_count": 4,
      "outputs": []
    },
    {
      "cell_type": "code",
      "source": [
        "class Population:\n",
        "  def __init__(self, population_size, individual_size, elite_size=0):\n",
        "    self.population_size = population_size\n",
        "    self.individual_size = individual_size\n",
        "    self.individuals = self.generate_population()\n",
        "    self.elite_size = elite_size\n",
        "    self.num_generations = 0\n",
        "\n",
        "  def generate_population(self):\n",
        "    population = []\n",
        "    for _ in range(self.population_size):\n",
        "      new_individual = Chromosome(self.individual_size)\n",
        "      population.append(new_individual)\n",
        "    \n",
        "    return population\n",
        "\n",
        "  def rank_individuals(self):\n",
        "    self.individuals.sort(key=lambda x: x.fitness, reverse=True)\n",
        "\n",
        "  def select(self, selection_rate=0.5):\n",
        "    # round to even\n",
        "    new_size = math.ceil(selection_rate * len(self.individuals) / 2) * 2\n",
        "\n",
        "    self.rank_individuals()\n",
        "    self.individuals = self.individuals[:new_size]\n",
        "\n",
        "  def crossover(self, chr1, chr2, mutation_rate=0.01):\n",
        "    cross_point = np.random.randint(1, self.individual_size)\n",
        "    genes1 = chr1[:cross_point] + chr2[cross_point:]\n",
        "    child1 = Chromosome(self.individual_size, genes1)\n",
        "\n",
        "    genes2 = chr2[:cross_point] + chr1[cross_point:]\n",
        "    child2 = Chromosome(self.individual_size, genes2)\n",
        "\n",
        "    # mutate if chromosome was chosen\n",
        "    mutation = np.random.choice([True, False], p=[mutation_rate, 1-mutation_rate])\n",
        "    if(mutation):\n",
        "      child1.mutate()\n",
        "      child2.mutate()\n",
        "\n",
        "    return child1, child2\n",
        "\n",
        "  def new_generation(self, mutation_rate=0.01):\n",
        "    new_gen = []    \n",
        "    np.random.shuffle(self.individuals)\n",
        "\n",
        "    # crossover in pairs\n",
        "    for i in range(0, len(self.individuals)-1, 2):\n",
        "      chr1 = list(self.individuals[i].genes)\n",
        "      chr2 = list(self.individuals[i+1].genes)\n",
        "\n",
        "      child1, child2 = self.crossover(chr1, chr2, mutation_rate)\n",
        "\n",
        "      new_gen.append(child1)\n",
        "      new_gen.append(child2)\n",
        "    \n",
        "    self.individuals += new_gen\n",
        "    self.population_control()\n",
        "    self.num_generations += 1\n",
        "\n",
        "  def population_control(self):\n",
        "    if(len(self.individuals) > self.population_size):\n",
        "      self.individuals = self.individuals[:self.population_size]\n"
      ],
      "metadata": {
        "id": "9ANUwI8yw4bb"
      },
      "execution_count": 5,
      "outputs": []
    },
    {
      "cell_type": "code",
      "source": [
        "def objective_function(knapsack, state):\n",
        "  total_value = 0\n",
        "  total_weight = 0\n",
        "  \n",
        "  for i in range(knapsack.items_amount):\n",
        "    if(state[i] != 0):\n",
        "      total_value += knapsack.values[i]\n",
        "      total_weight += knapsack.weights[i]\n",
        "\n",
        "  return total_value, total_weight"
      ],
      "metadata": {
        "id": "BZ4IqTPMEILh"
      },
      "execution_count": 6,
      "outputs": []
    },
    {
      "cell_type": "code",
      "source": [
        "# knapsack definition\n",
        "weights = np.array([63, 21, 2, 32, 13, 80, 19, 37, 56, 41, 14, 8, 32, 42, 7])\n",
        "values = np.array([13, 2, 20, 10, 7, 14, 7, 2, 2, 4, 16, 17, 17, 3, 21])\n",
        "weight_limit = 275\n",
        "\n",
        "knapsack = Knapsack(weights, values, weight_limit)\n"
      ],
      "metadata": {
        "id": "XcXT4EJ86emM"
      },
      "execution_count": 7,
      "outputs": []
    },
    {
      "cell_type": "code",
      "source": [
        "def genetic_algorithm(knapsack):\n",
        "  max_gen = 5\n",
        "  population_size = 800\n",
        "  individual_size = knapsack.items_amount\n",
        "  mutation_rate = 0.05\n",
        "\n",
        "  population = Population(population_size, individual_size)  \n",
        "  # calculate fitness\n",
        "  for individual in population.individuals:\n",
        "    fit, _ = objective_function(knapsack, individual.genes)\n",
        "    individual.set_fitness(fit)\n",
        "\n",
        "  for i in range(max_gen):    \n",
        "    print(f'Starting Generation {i+1}...')\n",
        "\n",
        "    # select the best half of the population and discard the other half\n",
        "    population.select()\n",
        "\n",
        "    # repopulate with new individuals using crossover\n",
        "    population.new_generation(mutation_rate)\n",
        "\n",
        "    # recalculate fitness\n",
        "    for individual in population.individuals:\n",
        "      fit, _ = objective_function(knapsack, individual.genes)\n",
        "      individual.set_fitness(fit)\n",
        "  \n",
        "  # find and return best valid (not overweighted) individual\n",
        "  population.rank_individuals()\n",
        "  for individual in population.individuals:\n",
        "    v, w = objective_function(knapsack, individual.genes)\n",
        "    if(w <= knapsack.weight_limit):\n",
        "      return population, individual\n",
        "\n",
        "  return None, None\n"
      ],
      "metadata": {
        "id": "NWEL7YN9EVpk"
      },
      "execution_count": 8,
      "outputs": []
    },
    {
      "cell_type": "code",
      "source": [
        "population, solution = genetic_algorithm(knapsack)\n",
        "v, w = objective_function(knapsack, solution.genes)\n",
        "\n",
        "print(f'\\nNumber of generations: {population.num_generations}')\n",
        "if(solution):\n",
        "  print(f'Best individual: {solution.genes}')\n",
        "  print(f'Solution value: {v}')\n",
        "  print(f'Solution weight: {w}')\n",
        "else:\n",
        "  print('No valid solution was found.')\n",
        "\n",
        "# TODO\n",
        "# consider weight while ranking individuals!?\n",
        "#"
      ],
      "metadata": {
        "colab": {
          "base_uri": "https://localhost:8080/"
        },
        "id": "91ujPLxON7-C",
        "outputId": "11292bd0-cc6c-4628-93e6-ba9b35cda174"
      },
      "execution_count": 9,
      "outputs": [
        {
          "output_type": "stream",
          "name": "stdout",
          "text": [
            "Starting Generation 1...\n",
            "Starting Generation 2...\n",
            "Starting Generation 3...\n",
            "Starting Generation 4...\n",
            "Starting Generation 5...\n",
            "\n",
            "Number of generations: 5\n",
            "Best individual: [1 0 1 1 1 1 1 0 0 0 1 1 1 0 1]\n",
            "Solution value: 142\n",
            "Solution weight: 270\n"
          ]
        }
      ]
    },
    {
      "cell_type": "code",
      "source": [
        ""
      ],
      "metadata": {
        "id": "p266YkhE7wky"
      },
      "execution_count": 9,
      "outputs": []
    }
  ]
}