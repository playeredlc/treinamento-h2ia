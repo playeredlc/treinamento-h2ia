{
  "nbformat": 4,
  "nbformat_minor": 0,
  "metadata": {
    "colab": {
      "name": "ts_h2ia.ipynb",
      "provenance": [],
      "collapsed_sections": [],
      "authorship_tag": "ABX9TyO6W+foY5GBcKoiyXfbUuHR",
      "include_colab_link": true
    },
    "kernelspec": {
      "name": "python3",
      "display_name": "Python 3"
    },
    "language_info": {
      "name": "python"
    }
  },
  "cells": [
    {
      "cell_type": "markdown",
      "metadata": {
        "id": "view-in-github",
        "colab_type": "text"
      },
      "source": [
        "<a href=\"https://colab.research.google.com/github/playeredlc/treinamento-h2ia/blob/master/Meta-heuristicas/busca_tabu_mochila.ipynb\" target=\"_parent\"><img src=\"https://colab.research.google.com/assets/colab-badge.svg\" alt=\"Open In Colab\"/></a>"
      ]
    },
    {
      "cell_type": "code",
      "execution_count": 1,
      "metadata": {
        "id": "R7mBRhNLToPO"
      },
      "outputs": [],
      "source": [
        "# Metaheuristics\n",
        "# Solving the Knapsack problem using Tabu Search"
      ]
    },
    {
      "cell_type": "code",
      "source": [
        "import numpy as np"
      ],
      "metadata": {
        "id": "64xrd1efVwwn"
      },
      "execution_count": 2,
      "outputs": []
    },
    {
      "cell_type": "code",
      "source": [
        "class Knapsack:\n",
        "  def __init__(self, weights, values, weight_limit):\n",
        "    self.weights = weights\n",
        "    self.values = values\n",
        "    self.weight_limit = weight_limit\n",
        "    \n",
        "    self.items_amount = len(self.weights)\n",
        "    self.state = self.generate_random_state()\n",
        "  \n",
        "  def set_state(self, state):\n",
        "    self.state = state\n",
        "  \n",
        "  def get_state(self):\n",
        "    return self.state\n",
        "\n",
        "  def check_capacity(self, state=[]):\n",
        "    if(len(state) == 0):\n",
        "      state = self.state\n",
        "    total_weight = 0\n",
        "    \n",
        "    for i in range(self.items_amount):\n",
        "      if(state[i] != 0):\n",
        "        total_weight += self.weights[i]\n",
        "\n",
        "    return total_weight\n",
        "  \n",
        "  def check_value(self, state=[]):\n",
        "    if(len(state) == 0):\n",
        "      state = self.state\n",
        "\n",
        "    total_value = 0\n",
        "    for i in range(self.items_amount):\n",
        "      if(state[i] != 0):\n",
        "        total_value += self.values[i]   \n",
        "\n",
        "    return total_value \n",
        "\n",
        "  def generate_random_state(self):\n",
        "    state = np.zeros_like(self.values)\n",
        "    partial_weight = 0\n",
        "\n",
        "    while(partial_weight <= self.weight_limit):\n",
        "      random_i = np.random.randint(0, self.items_amount)\n",
        "      partial_weight += self.weights[random_i]\n",
        "\n",
        "      if((partial_weight > self.weight_limit)):\n",
        "        return state\n",
        "      else:\n",
        "        state[random_i] = 1\n",
        "    \n",
        "    return state\n",
        "\n",
        "  def generate_neighbor_states(self):\n",
        "    states_array = []\n",
        "\n",
        "    for i in range(self.items_amount):\n",
        "      new_state = np.copy(self.state)\n",
        "      if(new_state[i] == 0):\n",
        "        new_state[i] = 1\n",
        "      else:\n",
        "        new_state[i] = 0\n",
        "      \n",
        "      states_array.append(new_state)\n",
        "\n",
        "    return states_array  \n"
      ],
      "metadata": {
        "id": "fyh3MPJPWEf_"
      },
      "execution_count": 3,
      "outputs": []
    },
    {
      "cell_type": "code",
      "source": [
        "def get_best_state(knapsack, neighbor_states, tabu_list):\n",
        "\n",
        "  best_index = -1\n",
        "  best_value = -1\n",
        "  # set first valid (not overweighted and not tabu) state as the best\n",
        "  for i in range(len(neighbor_states)):\n",
        "    state_weight = knapsack.check_capacity(neighbor_states[i])\n",
        "    if(state_weight <= knapsack.weight_limit and i not in tabu_list):\n",
        "      best_value = knapsack.check_value(neighbor_states[i])\n",
        "      best_index = i\n",
        "      break\n",
        "\n",
        "  # look for better states\n",
        "  for i in range(best_index, len(neighbor_states)):\n",
        "    state_weight = knapsack.check_capacity(neighbor_states[i])\n",
        "    state_value = knapsack.check_value(neighbor_states[i])\n",
        "\n",
        "    if(state_weight <= knapsack.weight_limit):\n",
        "      if(i not in tabu_list and state_value > best_value):\n",
        "        best_value = knapsack.check_value(neighbor_states[i])\n",
        "        best_index = i\n",
        "  \n",
        "  return best_value, best_index\n"
      ],
      "metadata": {
        "id": "veGR-GQCJkjj"
      },
      "execution_count": 4,
      "outputs": []
    },
    {
      "cell_type": "code",
      "source": [
        "def tabu_search(knapsack):\n",
        "  iter = 0\n",
        "  max_iter = 1000\n",
        "  last_improvement = 0\n",
        "\n",
        "  list_size = 100\n",
        "  tabu_list = []\n",
        "  \n",
        "  best_ever = knapsack.get_state()\n",
        "\n",
        "  while((iter - last_improvement) < max_iter):\n",
        "    # generate states and evaluate the best\n",
        "    neighbor_states = knapsack.generate_neighbor_states()\n",
        "    best_value, best_index = get_best_state(knapsack, neighbor_states, tabu_list)\n",
        "\n",
        "    # check if value improved\n",
        "    if(knapsack.check_value(neighbor_states[best_index]) > knapsack.check_value(best_ever)):\n",
        "      best_ever = neighbor_states[best_index]\n",
        "      last_improvement = iter\n",
        "      print(f'Best solution ever updated: {knapsack.check_value(best_ever)}')\n",
        "    \n",
        "    # update current state\n",
        "    knapsack.set_state(neighbor_states[best_index])\n",
        "    \n",
        "    # update tabu list\n",
        "    if(len(tabu_list) >= list_size):\n",
        "      tabu_list.append(best_index)\n",
        "      tabu_list.pop(0)\n",
        "    else:\n",
        "      tabu_list.append(best_index)\n",
        "    \n",
        "    iter += 1\n",
        "  \n",
        "  knapsack.set_state(best_ever)\n",
        "  return knapsack\n"
      ],
      "metadata": {
        "id": "xK2Z3baaez-J"
      },
      "execution_count": 5,
      "outputs": []
    },
    {
      "cell_type": "code",
      "source": [
        "# knapsack definition\n",
        "weights = np.array([63, 21, 2, 32, 13, 80, 19, 37, 56, 41, 14, 8, 32, 42, 7])\n",
        "values = np.array([13, 2, 20, 10, 7, 14, 7, 2, 2, 4, 16, 17, 17, 3, 21])\n",
        "weight_limit = 275\n",
        "# create knapsack object with random state\n",
        "knapsack = Knapsack(weights, values, weight_limit)\n",
        "\n",
        "print(f'Initial Solution: {knapsack.get_state()}')\n",
        "print(f'Initial Value: {knapsack.check_value()}')\n",
        "print(f'Initial Weight: {knapsack.check_capacity()}\\n')\n",
        "\n",
        "solved_knapsack = tabu_search(knapsack)\n",
        "\n",
        "print(f'\\nSolution: {solved_knapsack.get_state()}')\n",
        "print(f'Solution Value: {solved_knapsack.check_value()}')\n",
        "print(f'Solution Weight: {solved_knapsack.check_capacity()}')\n"
      ],
      "metadata": {
        "colab": {
          "base_uri": "https://localhost:8080/"
        },
        "id": "lLzLJnpcUQEB",
        "outputId": "f30aabb4-6993-426a-a41f-f151ea7dd9f4"
      },
      "execution_count": 6,
      "outputs": [
        {
          "output_type": "stream",
          "name": "stdout",
          "text": [
            "Initial Solution: [0 0 0 1 0 0 0 1 1 0 1 0 0 0 0]\n",
            "Initial Value: 30\n",
            "Initial Weight: 139\n",
            "\n",
            "Best solution ever updated: 51\n",
            "Best solution ever updated: 71\n",
            "Best solution ever updated: 88\n",
            "Best solution ever updated: 105\n",
            "Best solution ever updated: 119\n",
            "Best solution ever updated: 124\n",
            "Best solution ever updated: 131\n",
            "Best solution ever updated: 142\n",
            "\n",
            "Solution: [1 0 1 1 1 1 1 0 0 0 1 1 1 0 1]\n",
            "Solution Value: 142\n",
            "Solution Weight: 270\n"
          ]
        }
      ]
    }
  ]
}