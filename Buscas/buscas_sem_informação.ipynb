{
  "nbformat": 4,
  "nbformat_minor": 0,
  "metadata": {
    "colab": {
      "name": "buscas_sem_informação.ipynb",
      "provenance": [],
      "collapsed_sections": [],
      "toc_visible": true,
      "include_colab_link": true
    },
    "kernelspec": {
      "name": "python3",
      "display_name": "Python 3"
    },
    "language_info": {
      "name": "python"
    }
  },
  "cells": [
    {
      "cell_type": "markdown",
      "metadata": {
        "id": "view-in-github",
        "colab_type": "text"
      },
      "source": [
        "<a href=\"https://colab.research.google.com/github/playeredlc/treinamento-h2ia/blob/master/Buscas/buscas_sem_informa%C3%A7%C3%A3o.ipynb\" target=\"_parent\"><img src=\"https://colab.research.google.com/assets/colab-badge.svg\" alt=\"Open In Colab\"/></a>"
      ]
    },
    {
      "cell_type": "markdown",
      "metadata": {
        "id": "21uUELma0562"
      },
      "source": [
        "# O Problema\n",
        "Sliding Puzzle - Bloco Deslizante"
      ]
    },
    {
      "cell_type": "code",
      "metadata": {
        "colab": {
          "base_uri": "https://localhost:8080/",
          "height": 219
        },
        "id": "duRbJW3rz01L",
        "outputId": "ade2038d-7a7b-4d37-e9f7-0190961b78ee"
      },
      "source": [
        "# !wget -qq https://miro.medium.com/max/700/1*W7jg4GmEjGBypd9WPktasQ.gif\n",
        "from IPython.display import Image\n",
        "Image(url='https://miro.medium.com/max/700/1*W7jg4GmEjGBypd9WPktasQ.gif',width=200)"
      ],
      "execution_count": null,
      "outputs": [
        {
          "output_type": "execute_result",
          "data": {
            "text/plain": [
              "<IPython.core.display.Image object>"
            ],
            "text/html": [
              "<img src=\"https://miro.medium.com/max/700/1*W7jg4GmEjGBypd9WPktasQ.gif\" width=\"200\"/>"
            ]
          },
          "metadata": {},
          "execution_count": 1
        }
      ]
    },
    {
      "cell_type": "markdown",
      "metadata": {
        "id": "f6TPxqB-1Cwx"
      },
      "source": [
        "# Resolver o quebra-cabeças usando Buscas"
      ]
    },
    {
      "cell_type": "code",
      "source": [
        "import numpy as np\n",
        "from collections import deque"
      ],
      "metadata": {
        "id": "t8as3a9y3Sd3"
      },
      "execution_count": null,
      "outputs": []
    },
    {
      "cell_type": "markdown",
      "source": [
        "## Definição do nodo\n",
        "\n",
        "Cada nodo é um objeto que possui:\n",
        "* Estado, ou seja, a configuração das peças. \n",
        "* Nodo pai, aquele nodo a partir de qual ele foi gerado.\n",
        "* Caminho até a raiz, uma lista de nodos que refaz o caminho de volta até a raiz.\n",
        "\n",
        "Cada nodo implementa os métodos que permitem movimentar a peça vazia (quando permitido) gerando novos estados. O método para gerar todos os filhos possíveis a partir do seu estado atual e o método que faz o backtracking até a raiz."
      ],
      "metadata": {
        "id": "q-R_iD-T_nw2"
      }
    },
    {
      "cell_type": "code",
      "metadata": {
        "id": "cmJfg8CF0Jwc"
      },
      "source": [
        "class Node:\n",
        "  def __init__(self, state, parent=None):\n",
        "    self.state = state\n",
        "    self.parent = parent\n",
        "    self.path_to_root = []\n",
        "  \n",
        "  def get_zero(self):\n",
        "    coord = np.where(self.state == 0)\n",
        "    r, c = coord[0][0], coord[1][0]\n",
        "\n",
        "    return r, c\n",
        "\n",
        "  def move_left(self):\n",
        "    r, c = self.get_zero()\n",
        "    if(c != 0):\n",
        "      new_st = self.state.copy()\n",
        "      # swap\n",
        "      new_st[r, c], new_st[r, c-1] = new_st[r, c-1], new_st[r, c]\n",
        "      return new_st    \n",
        "    else:\n",
        "      return np.empty(0)\n",
        "  \n",
        "  def move_up(self):\n",
        "    r, c = self.get_zero()\n",
        "    if(r != 0):\n",
        "      new_st = self.state.copy()\n",
        "      # swap\n",
        "      new_st[r, c], new_st[r-1, c] = new_st[r-1, c], new_st[r, c]\n",
        "      return new_st    \n",
        "    else:\n",
        "      return np.empty(0)\n",
        "  \n",
        "  def move_right(self):\n",
        "    r, c = self.get_zero()\n",
        "    if(c < self.state.shape[1]-1):\n",
        "      new_st = self.state.copy()\n",
        "      # swap\n",
        "      new_st[r, c], new_st[r, c+1] = new_st[r, c+1], new_st[r, c]\n",
        "      return new_st    \n",
        "    else:\n",
        "      return np.empty(0)\n",
        "\n",
        "  def move_down(self):\n",
        "    r, c = self.get_zero()\n",
        "    if(r < self.state.shape[0]-1):\n",
        "      new_st = self.state.copy()\n",
        "      # swap\n",
        "      new_st[r, c], new_st[r+1, c] = new_st[r+1, c], new_st[r, c]\n",
        "      return new_st\n",
        "    else:\n",
        "      return np.empty(0)\n",
        "\n",
        "  def generate_children(self):\n",
        "    children_list = []\n",
        "\n",
        "    child_state = self.move_left()\n",
        "    if(child_state.any()):\n",
        "      children_list.append(Node(child_state, self))\n",
        "    \n",
        "    child_state = self.move_up()\n",
        "    if(child_state.any()):\n",
        "      children_list.append(Node(child_state, self))\n",
        "    \n",
        "    child_state = self.move_right()\n",
        "    if(child_state.any()):\n",
        "      children_list.append(Node(child_state, self))\n",
        "    \n",
        "    child_state = self.move_down()\n",
        "    if(child_state.any()):\n",
        "      children_list.append(Node(child_state, self))\n",
        "\n",
        "    return children_list\n",
        "\n",
        "  def generate_path(self):\n",
        "    self.path_to_root.clear()\n",
        "    previous = self.parent\n",
        "    while(previous.parent != None):\n",
        "      self.path_to_root.append(previous.state.copy())\n",
        "      previous = previous.parent\n",
        "    \n",
        "    return self.path_to_root\n",
        "\n",
        "  def print_solution(self):\n",
        "    move = 1\n",
        "    for state in reversed(self.path_to_root):\n",
        "      print(f'\\nMove {move}:\\n{state}')\n",
        "      move += 1\n",
        "    print(f'\\nFinal move:\\n{self.state}')\n",
        "  "
      ],
      "execution_count": null,
      "outputs": []
    },
    {
      "cell_type": "markdown",
      "metadata": {
        "id": "o6ZClGCC1RxB"
      },
      "source": [
        "## Busca em largura\n",
        "\n",
        "Para implementação da busca em largura utiliza-se uma estrutura de fila para armazenar os nodos que devem ser explorados, esse tipo de estrutura garante que todos os nodos de um mesmo nível sejam explorados antes de passar para o próximo nível.\n",
        "\n",
        "Utiliza-se também um set para guardar os estados que foram gerados e já foram desempilhados, a fim de evitar a repetição de estados.\n",
        "\n",
        "Em questão de completude a busca em largura é completa, ou seja, sempre encontra a solução caso ela existe. Quando encontrada, essa solução é ótima."
      ]
    },
    {
      "cell_type": "code",
      "source": [
        "# https://docs.python.org/3/library/collections.html#collections.deque\n",
        "\n",
        "final_state = np.array([[1, 2, 3],\n",
        "                        [4, 5, 6],\n",
        "                        [7, 8, 0]])\n",
        "\n",
        "def breadth_first_search(initial_state, final_state, verbose=False):\n",
        "  it = 0\n",
        "  q = deque()\n",
        "  visited_states = set()\n",
        "  \n",
        "  root = Node(initial_state)\n",
        "  q.insert(0, root)\n",
        "\n",
        "  while(not q.count(0)):\n",
        "\n",
        "    if(verbose):        \n",
        "      print(f'\\nIteration {it}...')      \n",
        "      print(f'Visited states amount: {len(visited_states)}')\n",
        "    \n",
        "    node = q.pop()\n",
        "\n",
        "    if(np.array_equal(node.state, final_state)):      \n",
        "      print(f'\\nIteration {it}...')\n",
        "      print(f'Visited states amount: {len(visited_states)}')\n",
        "      print(f'\\nRESULT FOUND!\\n{node.state}\\n')\n",
        "      \n",
        "      node.generate_path()      \n",
        "      return node\n",
        "    \n",
        "    children_list = node.generate_children()\n",
        "    \n",
        "    for child in children_list:\n",
        "      if((not (np.array2string(child.state)) in visited_states)):\n",
        "        q.insert(0, child)\n",
        "\n",
        "    visited_states.add(np.array2string(node.state))\n",
        "    it += 1\n",
        "\n",
        "  return False"
      ],
      "metadata": {
        "id": "ta2R7LYQNGL0"
      },
      "execution_count": null,
      "outputs": []
    },
    {
      "cell_type": "markdown",
      "source": [
        "### Teste para uma instância simples do problema\n",
        "\n",
        "Resolvido em 14 iterações, gerando uma solução com 3 movimentos (solução ótima)."
      ],
      "metadata": {
        "id": "aV0PkNZ_D1BC"
      }
    },
    {
      "cell_type": "code",
      "source": [
        "%%time\n",
        "\n",
        "initial_state = np.array([[1, 2, 3],\n",
        "                          [4, 6, 0],\n",
        "                          [7, 5, 8]])\n",
        "\n",
        "res = breadth_first_search(initial_state, final_state, verbose=True)"
      ],
      "metadata": {
        "colab": {
          "base_uri": "https://localhost:8080/"
        },
        "id": "tBctkaDaPHyg",
        "outputId": "72a31fa9-8513-4206-bd1c-018b19df10ae"
      },
      "execution_count": null,
      "outputs": [
        {
          "output_type": "stream",
          "name": "stdout",
          "text": [
            "\n",
            "Iteration 0...\n",
            "Visited states amount: 0\n",
            "\n",
            "Iteration 1...\n",
            "Visited states amount: 1\n",
            "\n",
            "Iteration 2...\n",
            "Visited states amount: 2\n",
            "\n",
            "Iteration 3...\n",
            "Visited states amount: 3\n",
            "\n",
            "Iteration 4...\n",
            "Visited states amount: 4\n",
            "\n",
            "Iteration 5...\n",
            "Visited states amount: 5\n",
            "\n",
            "Iteration 6...\n",
            "Visited states amount: 6\n",
            "\n",
            "Iteration 7...\n",
            "Visited states amount: 7\n",
            "\n",
            "Iteration 8...\n",
            "Visited states amount: 8\n",
            "\n",
            "Iteration 9...\n",
            "Visited states amount: 9\n",
            "\n",
            "Iteration 10...\n",
            "Visited states amount: 10\n",
            "\n",
            "Iteration 11...\n",
            "Visited states amount: 11\n",
            "\n",
            "Iteration 12...\n",
            "Visited states amount: 12\n",
            "\n",
            "Iteration 13...\n",
            "Visited states amount: 13\n",
            "\n",
            "Iteration 14...\n",
            "Visited states amount: 14\n",
            "\n",
            "Iteration 14...\n",
            "Visited states amount: 14\n",
            "\n",
            "RESULT FOUND!\n",
            "[[1 2 3]\n",
            " [4 5 6]\n",
            " [7 8 0]]\n",
            "\n",
            "CPU times: user 20.8 ms, sys: 2.83 ms, total: 23.6 ms\n",
            "Wall time: 24 ms\n"
          ]
        }
      ]
    },
    {
      "cell_type": "code",
      "source": [
        "print(f'Initial state:\\n{initial_state}')\n",
        "res.print_solution()"
      ],
      "metadata": {
        "colab": {
          "base_uri": "https://localhost:8080/"
        },
        "id": "XkFb1k1FNick",
        "outputId": "0e535c30-960c-4cb7-dd67-28de9bdf9b77"
      },
      "execution_count": null,
      "outputs": [
        {
          "output_type": "stream",
          "name": "stdout",
          "text": [
            "Initial state:\n",
            "[[1 2 3]\n",
            " [4 6 0]\n",
            " [7 5 8]]\n",
            "\n",
            "Move 1:\n",
            "[[1 2 3]\n",
            " [4 0 6]\n",
            " [7 5 8]]\n",
            "\n",
            "Move 2:\n",
            "[[1 2 3]\n",
            " [4 5 6]\n",
            " [7 0 8]]\n",
            "\n",
            "Final move:\n",
            "[[1 2 3]\n",
            " [4 5 6]\n",
            " [7 8 0]]\n"
          ]
        }
      ]
    },
    {
      "cell_type": "markdown",
      "metadata": {
        "id": "zCCoey-J1U5t"
      },
      "source": [
        "## Busca em Profundidade\n",
        "\n",
        "A busca em profundidade é implementada de maneira semelhante a busca em largura, com a diferença fundamental de que se utiliza uma estrutura de pilha para armazenar os nodos que deverão ser explorados na sequência. A diferença nas estruturas faz com que um ramo seja expandido até que não seja mais possível ou a solução encontrada.\n",
        "\n",
        "Quando os nodos visitados são controlados para evitar loops, a busca em profundidade, assim como a busca em largura é completa, porém, a solução encontrada não é garantidamente ótima."
      ]
    },
    {
      "cell_type": "code",
      "metadata": {
        "id": "XJkS_j3m8A4x"
      },
      "source": [
        "final_state = np.array([[1, 2, 3],\n",
        "                        [4, 5, 6],\n",
        "                        [7, 8, 0]])\n",
        "\n",
        "def depth_first_search(initial_state, final_state, verbose=False):\n",
        "  it = 0\n",
        "  q = deque()\n",
        "  visited_states = set()\n",
        "  \n",
        "  root = Node(initial_state)\n",
        "  q.insert(0, root)\n",
        "\n",
        "  while(not q.count(0)):\n",
        "    \n",
        "    if(verbose):        \n",
        "      print(f'\\nIteration {it}...')\n",
        "      print(f'Visited states amount: {len(visited_states)}')\n",
        "    \n",
        "    node = q.pop()\n",
        "\n",
        "    if(np.array_equal(node.state, final_state)):\n",
        "      print(f'\\nIteration {it}...')\n",
        "      print(f'Visited states amount: {len(visited_states)}')\n",
        "      print(f'\\nRESULT FOUND!\\n{node.state}\\n')\n",
        "      \n",
        "      node.generate_path()\n",
        "      return node\n",
        "    \n",
        "    children_list = node.generate_children()\n",
        "    \n",
        "    for child in children_list:\n",
        "      if((not (np.array2string(child.state)) in visited_states)):\n",
        "        q.append(child)\n",
        "\n",
        "    visited_states.add(np.array2string(node.state))\n",
        "    it += 1\n",
        "\n",
        "  return False"
      ],
      "execution_count": null,
      "outputs": []
    },
    {
      "cell_type": "markdown",
      "source": [
        "### Teste para uma instância simples do problema\n",
        "\n",
        "A partir do mesmo estado inicial usado no teste com a busca em largura, obteve-se uma solução em 9 iterações (menor que na busca em largura), porém, essa solução requer 9 movimentos para ser encontrada (solução ótima possui 3)."
      ],
      "metadata": {
        "id": "md3OIvtsHlCK"
      }
    },
    {
      "cell_type": "code",
      "source": [
        "%%time\n",
        "\n",
        "initial_state = np.array([[1, 2, 3],\n",
        "                          [4, 6, 0],\n",
        "                          [7, 5, 8]])\n",
        "\n",
        "res = depth_first_search(initial_state, final_state, verbose=True)"
      ],
      "metadata": {
        "colab": {
          "base_uri": "https://localhost:8080/"
        },
        "id": "-5DBu7RE4_y8",
        "outputId": "f2722e51-7e16-496c-8ee7-46f2acffcf59"
      },
      "execution_count": null,
      "outputs": [
        {
          "output_type": "stream",
          "name": "stdout",
          "text": [
            "\n",
            "Iteration 0...\n",
            "Visited states amount: 0\n",
            "\n",
            "Iteration 1...\n",
            "Visited states amount: 1\n",
            "\n",
            "Iteration 2...\n",
            "Visited states amount: 2\n",
            "\n",
            "Iteration 3...\n",
            "Visited states amount: 3\n",
            "\n",
            "Iteration 4...\n",
            "Visited states amount: 4\n",
            "\n",
            "Iteration 5...\n",
            "Visited states amount: 5\n",
            "\n",
            "Iteration 6...\n",
            "Visited states amount: 6\n",
            "\n",
            "Iteration 7...\n",
            "Visited states amount: 7\n",
            "\n",
            "Iteration 8...\n",
            "Visited states amount: 8\n",
            "\n",
            "Iteration 9...\n",
            "Visited states amount: 9\n",
            "\n",
            "Iteration 9...\n",
            "Visited states amount: 9\n",
            "\n",
            "RESULT FOUND!\n",
            "[[1 2 3]\n",
            " [4 5 6]\n",
            " [7 8 0]]\n",
            "\n",
            "CPU times: user 14.4 ms, sys: 3.06 ms, total: 17.5 ms\n",
            "Wall time: 21.1 ms\n"
          ]
        }
      ]
    },
    {
      "cell_type": "code",
      "source": [
        "print(f'Initial state:\\n{initial_state}')\n",
        "res.print_solution()"
      ],
      "metadata": {
        "colab": {
          "base_uri": "https://localhost:8080/"
        },
        "id": "IhewI2yo5mQH",
        "outputId": "6fa36de1-c6d9-4838-b37e-49e503cd2de0"
      },
      "execution_count": null,
      "outputs": [
        {
          "output_type": "stream",
          "name": "stdout",
          "text": [
            "Initial state:\n",
            "[[1 2 3]\n",
            " [4 6 0]\n",
            " [7 5 8]]\n",
            "\n",
            "Move 1:\n",
            "[[1 2 3]\n",
            " [4 6 8]\n",
            " [7 5 0]]\n",
            "\n",
            "Move 2:\n",
            "[[1 2 3]\n",
            " [4 6 8]\n",
            " [7 0 5]]\n",
            "\n",
            "Move 3:\n",
            "[[1 2 3]\n",
            " [4 0 8]\n",
            " [7 6 5]]\n",
            "\n",
            "Move 4:\n",
            "[[1 2 3]\n",
            " [4 8 0]\n",
            " [7 6 5]]\n",
            "\n",
            "Move 5:\n",
            "[[1 2 3]\n",
            " [4 8 5]\n",
            " [7 6 0]]\n",
            "\n",
            "Move 6:\n",
            "[[1 2 3]\n",
            " [4 8 5]\n",
            " [7 0 6]]\n",
            "\n",
            "Move 7:\n",
            "[[1 2 3]\n",
            " [4 0 5]\n",
            " [7 8 6]]\n",
            "\n",
            "Move 8:\n",
            "[[1 2 3]\n",
            " [4 5 0]\n",
            " [7 8 6]]\n",
            "\n",
            "Final move:\n",
            "[[1 2 3]\n",
            " [4 5 6]\n",
            " [7 8 0]]\n"
          ]
        }
      ]
    },
    {
      "cell_type": "markdown",
      "source": [
        "## Teste com uma instância difícil do problema\n",
        "\n",
        "Os dois algoritmos foram utilizados para resolver a [instância mais difícil](http://w01fe.com/blog/2009/01/the-hardest-eight-puzzle-instances-take-31-moves-to-solve/) pra esse problema. A partir desse estado inicial são necessários no minimo 31 movimentos para chegar a solução.\n",
        "\n",
        "O número máximo de estados únicos que podem ser gerados para esse problema é `9!/2 = 181440`.\n",
        "\n",
        "Na busca em largura todos os estados foram gerados em 519163 iterações, e como esperado a solução ótima foi encontrada com 31 movimentos.Esse processo levou aproximandamente 15 minutos.\n",
        "\n",
        "`CPU times: user 15min 14s, sys: 9.46 s, total: 15min 23s\n",
        "Wall time: 15min 13s`\n",
        "\n",
        "Na busca em profundidade a execução foi muito mais rápida, necessitando 58242 iterações para encontrar a solução e menos de 1 minuto para finalizar a execução. Entretanto, são necessários 57299 movimentos para chegar do estado inicial a solução utilizando o caminho encontrado.\n",
        "\n",
        "`CPU times: user 49.9 s, sys: 491 ms, total: 50.4 s\n",
        "Wall time: 49.7 s`\n",
        "\n",
        "Certamente é possível otimizar a implementação dos nodos e dos algoritmos das buscas para melhorar o desempenho, porém, mesmo com a implementação atual é possível ter uma boa base para comparação entre as diferentes estratégias."
      ],
      "metadata": {
        "id": "R3Hw89zXImNe"
      }
    },
    {
      "cell_type": "markdown",
      "source": [
        "### BFS"
      ],
      "metadata": {
        "id": "-5RSXsV5Mj66"
      }
    },
    {
      "cell_type": "code",
      "source": [
        "%%time\n",
        "\n",
        "initial_state = np.array([[8, 6, 7],\n",
        "                          [2, 5, 4],\n",
        "                          [3, 0, 1]])\n",
        "\n",
        "res = breadth_first_search(initial_state, final_state, verbose=False)"
      ],
      "metadata": {
        "colab": {
          "base_uri": "https://localhost:8080/"
        },
        "id": "tf9X3ffMMivl",
        "outputId": "b7d16bb1-64f0-4f98-aa81-ac74f1e46038"
      },
      "execution_count": null,
      "outputs": [
        {
          "output_type": "stream",
          "name": "stdout",
          "text": [
            "\n",
            "Iteration 519163...\n",
            "Visited states amount: 181439\n",
            "\n",
            "RESULT FOUND!\n",
            "[[1 2 3]\n",
            " [4 5 6]\n",
            " [7 8 0]]\n",
            "\n",
            "CPU times: user 15min 14s, sys: 9.46 s, total: 15min 23s\n",
            "Wall time: 15min 13s\n"
          ]
        }
      ]
    },
    {
      "cell_type": "code",
      "source": [
        "print(f'Número de movimentos no caminho encontrado (bfs): {len(res.path_to_root)+1}')\n",
        "# res.print_solution()"
      ],
      "metadata": {
        "colab": {
          "base_uri": "https://localhost:8080/"
        },
        "id": "DvOEE_qPM5gY",
        "outputId": "e4e040df-d204-4c0e-f614-83510188da35"
      },
      "execution_count": null,
      "outputs": [
        {
          "output_type": "stream",
          "name": "stdout",
          "text": [
            "Número de movimentos no caminho encontrado (bfs): 31\n"
          ]
        }
      ]
    },
    {
      "cell_type": "markdown",
      "source": [
        "### DFS"
      ],
      "metadata": {
        "id": "oGCg1rSDNnIq"
      }
    },
    {
      "cell_type": "code",
      "source": [
        "%%time\n",
        "\n",
        "initial_state = np.array([[8, 6, 7],\n",
        "                          [2, 5, 4],\n",
        "                          [3, 0, 1]])\n",
        "\n",
        "res = depth_first_search(initial_state, final_state, verbose=False)"
      ],
      "metadata": {
        "colab": {
          "base_uri": "https://localhost:8080/"
        },
        "id": "brivp4SHNh2D",
        "outputId": "91a268e3-dfdd-4fea-d13a-603854ee9a98"
      },
      "execution_count": null,
      "outputs": [
        {
          "output_type": "stream",
          "name": "stdout",
          "text": [
            "\n",
            "Iteration 58242...\n",
            "Visited states amount: 58242\n",
            "\n",
            "RESULT FOUND!\n",
            "[[1 2 3]\n",
            " [4 5 6]\n",
            " [7 8 0]]\n",
            "\n",
            "CPU times: user 49.9 s, sys: 491 ms, total: 50.4 s\n",
            "Wall time: 49.7 s\n"
          ]
        }
      ]
    },
    {
      "cell_type": "code",
      "source": [
        "print(f'Número de movimentos no caminho encontrado (dfs): {len(res.path_to_root)+1}')\n",
        "# res.print_solution()"
      ],
      "metadata": {
        "colab": {
          "base_uri": "https://localhost:8080/"
        },
        "id": "H-eRbl_LNt2r",
        "outputId": "5f6b6bea-e3c7-48a2-cd05-dd38f33905d5"
      },
      "execution_count": null,
      "outputs": [
        {
          "output_type": "stream",
          "name": "stdout",
          "text": [
            "Número de movimentos no caminho encontrado (dfs): 57299\n"
          ]
        }
      ]
    },
    {
      "cell_type": "markdown",
      "metadata": {
        "id": "rXU5HkCd1ZPu"
      },
      "source": [
        "## Discorra sobre o desempenho dos métodos em questões de:\n",
        "\n",
        "\n",
        "1.   Consumo de memória\n",
        "2.   Processamento\n",
        "\n",
        "A complexidade espacial da busca em largura, no geral, costuma ser maior que a da busca em profundidade. Isso porque a busca em largura expande todos os nodos de um determinado nível antes de prosseguir para o próximo. Dependendo da profundidade em que a solução se encontra e o fator de ramificação da árvore, a quantidade de memória necessária para armazenar esses nodos pode crescer muito rapidamente. Entretanto, dependendo da instância do problema a busca em largura pode encontrar a solução utilizando menos memória que a busca em profundidade.\n",
        "\n",
        "Com relação ao tempo de processamento, no geral a busca em profundidade leva vantagem, como observado no teste realizado para a instância mais difícil do problema, em que a diferença no tempo para encontrar uma solução válida foi muito grande (~1min vs ~15min). É importante relembrar que apesar de ser mais rápido, a solução encontrada pela busca em profundidade não é ótima e no geral é muito mais custosa."
      ]
    }
  ]
}