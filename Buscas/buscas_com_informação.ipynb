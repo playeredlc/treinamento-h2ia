{
  "nbformat": 4,
  "nbformat_minor": 0,
  "metadata": {
    "colab": {
      "name": "buscas_com_informação.ipynb",
      "provenance": [],
      "collapsed_sections": [],
      "include_colab_link": true
    },
    "kernelspec": {
      "name": "python3",
      "display_name": "Python 3"
    },
    "language_info": {
      "name": "python"
    }
  },
  "cells": [
    {
      "cell_type": "markdown",
      "metadata": {
        "id": "view-in-github",
        "colab_type": "text"
      },
      "source": [
        "<a href=\"https://colab.research.google.com/github/playeredlc/treinamento-h2ia/blob/master/Buscas/buscas_com_informa%C3%A7%C3%A3o.ipynb\" target=\"_parent\"><img src=\"https://colab.research.google.com/assets/colab-badge.svg\" alt=\"Open In Colab\"/></a>"
      ]
    },
    {
      "cell_type": "markdown",
      "metadata": {
        "id": "21uUELma0562"
      },
      "source": [
        "# O Problema\n",
        "Sliding Puzzle - Bloco Deslizante"
      ]
    },
    {
      "cell_type": "code",
      "metadata": {
        "colab": {
          "base_uri": "https://localhost:8080/",
          "height": 219
        },
        "id": "duRbJW3rz01L",
        "outputId": "180895ca-389a-420b-cf58-ff3c8d859e25"
      },
      "source": [
        "# !wget -qq https://miro.medium.com/max/700/1*W7jg4GmEjGBypd9WPktasQ.gif\n",
        "from IPython.display import Image\n",
        "Image(url='https://miro.medium.com/max/700/1*W7jg4GmEjGBypd9WPktasQ.gif',width=200)"
      ],
      "execution_count": 1,
      "outputs": [
        {
          "output_type": "execute_result",
          "data": {
            "text/plain": [
              "<IPython.core.display.Image object>"
            ],
            "text/html": [
              "<img src=\"https://miro.medium.com/max/700/1*W7jg4GmEjGBypd9WPktasQ.gif\" width=\"200\"/>"
            ]
          },
          "metadata": {},
          "execution_count": 1
        }
      ]
    },
    {
      "cell_type": "markdown",
      "metadata": {
        "id": "f6TPxqB-1Cwx"
      },
      "source": [
        "# Resolver o quebra-cabeças usando Buscas"
      ]
    },
    {
      "cell_type": "code",
      "source": [
        "import numpy as np\n",
        "import heapq"
      ],
      "metadata": {
        "id": "qK7LlKQdAQWl"
      },
      "execution_count": 2,
      "outputs": []
    },
    {
      "cell_type": "markdown",
      "source": [
        "## Definição do nodo\n",
        "\n",
        "Para a solução com busca informada, por meio do algoritmo A*, utiliza-se uma implementação do nodo semelhante a utilizada na [busca sem informação](https://github.com/playeredlc/treinamento-h2ia/blob/master/Buscas/buscas_sem_informa%C3%A7%C3%A3o.ipynb), porém, com algumas informações extras:\n",
        "\n",
        "$Nodo.g =$ É o **custo** de chegar da raíz até o Nodo.\n",
        "\n",
        "$Nodo.h =$ É o **custo estimado** de chegar do Nodo até a solução do problema.\n",
        "\n",
        "$Nodo.f =$ É o **custo estimado** da solução de menor custo, passando por Nodo.\n",
        "\n",
        "O cálculo da estimativa do custo para ir de um determinado nodo até a solução  (Nodo.h) é dado pela soma de duas heurísticas:\n",
        "* O número de peças fora da posição correta;\n",
        "* O número de movimentos necessários para reposionar cada peça no lugar correto, sendo que outras peças não restrigem o seu movimento.\n",
        "\n",
        "*heurísticas inspiradas na fonte: https://www.youtube.com/watch?v=AmDFYN45a3I&t=1068s*"
      ],
      "metadata": {
        "id": "3KNnMUPt-R_j"
      }
    },
    {
      "cell_type": "code",
      "source": [
        "class Node:\n",
        "  def __init__(self, state, parent=None):\n",
        "    self.state = state\n",
        "    self.parent = parent\n",
        "    self.path_to_root = []\n",
        "\n",
        "    if(self.parent == None):\n",
        "      self.g = 0\n",
        "    else:\n",
        "      self.g = self.parent.g + 1\n",
        "    \n",
        "    self.h = self.heuristic_dist()\n",
        "\n",
        "    self.f = self.g + self.h\n",
        "  \n",
        "  def heuristic_dist(self):    \n",
        "    final_st = np.array([[1, 2, 3],\n",
        "                         [4, 5, 6],\n",
        "                         [7, 8, 0]])    \n",
        "    r, c = self.state.shape\n",
        "    \n",
        "    h1=0\n",
        "    for r in range(r):\n",
        "      for c in range(c):\n",
        "        r2, c2 = self.get_coord(final_st[r, c])\n",
        "        # number of moves to place in the right position\n",
        "        dist = abs(r - r2) + abs(c - c2)\n",
        "        if(dist != 0):\n",
        "          # wrong position adds 1\n",
        "           h1 += 1\n",
        "        h1 += dist\n",
        "    \n",
        "    return h1\n",
        "\n",
        "  def get_coord(self, value):\n",
        "    coord = np.where(self.state == value)\n",
        "    r, c = coord[0][0], coord[1][0]\n",
        "    \n",
        "    return r, c\n",
        "\n",
        "  def get_zero(self):\n",
        "    coord = np.where(self.state == 0)\n",
        "    r, c = coord[0][0], coord[1][0]\n",
        "\n",
        "    return r, c\n",
        "\n",
        "  def move_left(self):\n",
        "    r, c = self.get_zero()\n",
        "    if(c != 0):\n",
        "      new_st = self.state.copy()\n",
        "      # swap\n",
        "      new_st[r, c], new_st[r, c-1] = new_st[r, c-1], new_st[r, c]\n",
        "      return new_st    \n",
        "    else:\n",
        "      return np.empty(0)\n",
        "  \n",
        "  def move_up(self):\n",
        "    r, c = self.get_zero()\n",
        "    if(r != 0):\n",
        "      new_st = self.state.copy()\n",
        "      # swap\n",
        "      new_st[r, c], new_st[r-1, c] = new_st[r-1, c], new_st[r, c]\n",
        "      return new_st    \n",
        "    else:\n",
        "      return np.empty(0)\n",
        "  \n",
        "  def move_right(self):\n",
        "    r, c = self.get_zero()\n",
        "    if(c < self.state.shape[1]-1):\n",
        "      new_st = self.state.copy()\n",
        "      # swap\n",
        "      new_st[r, c], new_st[r, c+1] = new_st[r, c+1], new_st[r, c]\n",
        "      return new_st    \n",
        "    else:\n",
        "      return np.empty(0)\n",
        "\n",
        "  def move_down(self):\n",
        "    r, c = self.get_zero()\n",
        "    if(r < self.state.shape[0]-1):\n",
        "      new_st = self.state.copy()\n",
        "      # swap\n",
        "      new_st[r, c], new_st[r+1, c] = new_st[r+1, c], new_st[r, c]\n",
        "      return new_st\n",
        "    else:\n",
        "      return np.empty(0)\n",
        "\n",
        "  def generate_children(self):\n",
        "    children_list = []\n",
        "\n",
        "    child_state = self.move_left()\n",
        "    if(child_state.any()):\n",
        "      children_list.append(Node(child_state, self))\n",
        "    \n",
        "    child_state = self.move_up()\n",
        "    if(child_state.any()):\n",
        "      children_list.append(Node(child_state, self))\n",
        "    \n",
        "    child_state = self.move_right()\n",
        "    if(child_state.any()):\n",
        "      children_list.append(Node(child_state, self))\n",
        "    \n",
        "    child_state = self.move_down()\n",
        "    if(child_state.any()):\n",
        "      children_list.append(Node(child_state, self))\n",
        "\n",
        "    return children_list\n",
        "\n",
        "  def generate_path(self):\n",
        "    self.path_to_root.clear()\n",
        "    previous = self.parent\n",
        "    while(previous.parent != None):\n",
        "      self.path_to_root.append(previous.state.copy())\n",
        "      previous = previous.parent\n",
        "    \n",
        "    return self.path_to_root\n",
        "\n",
        "  def print_solution(self):\n",
        "    move = 1\n",
        "    for state in reversed(self.path_to_root):\n",
        "      print(f'\\nMove {move}:\\n{state}')\n",
        "      move += 1\n",
        "    print(f'\\nFinal move:\\n{self.state}')"
      ],
      "metadata": {
        "id": "sJ7l_S9h-u85"
      },
      "execution_count": 3,
      "outputs": []
    },
    {
      "cell_type": "markdown",
      "metadata": {
        "id": "o6ZClGCC1RxB"
      },
      "source": [
        "## Busca A*\n",
        "\n",
        "Na busca A*, utiliza-se o valor de `Nodo.f` (custo estimado da solução de menor custo, passando por Nodo.) para priorizar os nodos durante a busca. A estrutura utilizada para armazenar os nodos a serem explorados é uma heap (minheap).\n",
        "\n",
        "Caso a heuristica `Nodo.h` satisfaça algumas condições (admissibilidade/consistência) a busca é completa e ótima.\n",
        "\n",
        "*Admissibilidade:* Uma heurística admissível é aquela que nunca superestima o custo de atingir o objetivo. É uma estimativa otimista por natureza.\n",
        "\n",
        "*Consistência:* A consistência é necessária para busca em grafos. Uma heurística consistente é aquela onde, para cada **nodo n** e **nodo n'** (filho de n), o custo de chegar a estimativa de *n* $(n.h)$ não pode ser maior do que o custo de chegar a *n'* mais o custo de chegar a estimativa de *n'* $(n'.f)$."
      ]
    },
    {
      "cell_type": "code",
      "metadata": {
        "id": "cmJfg8CF0Jwc"
      },
      "source": [
        "# https://docs.python.org/3/library/heapq.html#\n",
        "\n",
        "final_state = np.array([[1, 2, 3],\n",
        "                        [4, 5, 6],\n",
        "                        [7, 8, 0]])\n",
        "\n",
        "def a_star_search(initial_state, final_state, verbose=False):\n",
        "  it = 0\n",
        "  entry_count = 1\n",
        "  hq = []\n",
        "  visited_states = set()  \n",
        "\n",
        "  root = Node(initial_state)\n",
        "  heapq.heappush(hq, (root.f, entry_count, root))\n",
        "\n",
        "  while(len(hq) != 0):\n",
        "    \n",
        "    if(verbose):        \n",
        "      print(f'\\nIteration {it} ...')\n",
        "      print(f'Visited states amount: {len(visited_states)}')\n",
        "    \n",
        "    # pop the node with lowest 'f' from heap\n",
        "    node = heapq.heappop(hq)[2]\n",
        "\n",
        "    if(np.array_equal(node.state, final_state)):      \n",
        "      print(f'\\nFinal iteration {it}.')\n",
        "      print(f'Visited states amount: {len(visited_states)}')\n",
        "      print(f'\\nRESULT FOUND!\\n{node.state}\\n')      \n",
        "      \n",
        "      node.generate_path()\n",
        "      return node\n",
        "    \n",
        "    children_list = node.generate_children()\n",
        "\n",
        "    for child in children_list:\n",
        "      if((not (np.array2string(child.state)) in visited_states)):\n",
        "        heapq.heappush(hq, (child.f, entry_count, child))\n",
        "        entry_count += 1\n",
        "    \n",
        "    visited_states.add(np.array2string(node.state))\n",
        "    it += 1\n",
        "\n",
        "  return False\n"
      ],
      "execution_count": 4,
      "outputs": []
    },
    {
      "cell_type": "markdown",
      "source": [
        "### Teste com a instância mais difícil do problema\n",
        "\n",
        "Quando foram desenvolvidos as [buscas sem informação](https://github.com/playeredlc/treinamento-h2ia/blob/master/Buscas/buscas_sem_informa%C3%A7%C3%A3o.ipynb) (dfs e bfs), realizou-se a busca da solução para a [instância mais difícil do problema](http://w01fe.com/blog/2009/01/the-hardest-eight-puzzle-instances-take-31-moves-to-solve/). Nenhum dos algoritmos obteve uma boa solução para o problema.\n",
        "\n",
        "A busca em largura encontrou a solução ótima, porém, levou aproximadamente 15 minutos para encontrá-la. Já a busca em profundidade levou menos de um minuto, porém, a solução encontrada possui um custo de mais de 58 mil movimentos, enquanto a solução ótima possui 31.\n",
        "\n",
        "Como pode ser observado abaixo, o algoritmo A* obteve uma performance muito superior para o problema, encontrando a solução ótima para essa instância do problema em aproximadamente 5 segundos.\n",
        "\n",
        "`CPU times: user 5.16 s, sys: 264 ms, total: 5.42 s\n",
        "Wall time: 4.9 s`"
      ],
      "metadata": {
        "id": "m7Wnddvr-GcG"
      }
    },
    {
      "cell_type": "code",
      "source": [
        "%%time\n",
        "\n",
        "initial_state = np.array([[8, 6, 7],\n",
        "                          [2, 5, 4],\n",
        "                          [3, 0, 1]])\n",
        "\n",
        "res = a_star_search(initial_state, final_state, verbose=False)\n",
        "\n",
        "cost = len(res.path_to_root)+1\n",
        "print(f'Solution cost: {cost}\\n')"
      ],
      "metadata": {
        "colab": {
          "base_uri": "https://localhost:8080/"
        },
        "id": "NFbvXB2xYWlC",
        "outputId": "3f6c0091-8a28-4ff9-b876-b5f46f73aea7"
      },
      "execution_count": 7,
      "outputs": [
        {
          "output_type": "stream",
          "name": "stdout",
          "text": [
            "\n",
            "Final iteration 10343.\n",
            "Visited states amount: 9688\n",
            "\n",
            "RESULT FOUND!\n",
            "[[1 2 3]\n",
            " [4 5 6]\n",
            " [7 8 0]]\n",
            "\n",
            "Solution cost: 31\n",
            "\n",
            "CPU times: user 5.16 s, sys: 264 ms, total: 5.42 s\n",
            "Wall time: 4.9 s\n"
          ]
        }
      ]
    },
    {
      "cell_type": "markdown",
      "source": [
        "#### Passos da solução"
      ],
      "metadata": {
        "id": "HoEm9XMdBELV"
      }
    },
    {
      "cell_type": "code",
      "source": [
        "print(f'Initial state:\\n{initial_state}')\n",
        "res.print_solution()"
      ],
      "metadata": {
        "colab": {
          "base_uri": "https://localhost:8080/"
        },
        "id": "v9TG_a9-kckO",
        "outputId": "dea3bc77-4941-4f82-ff9f-0607cc155578"
      },
      "execution_count": 8,
      "outputs": [
        {
          "output_type": "stream",
          "name": "stdout",
          "text": [
            "Initial state:\n",
            "[[8 6 7]\n",
            " [2 5 4]\n",
            " [3 0 1]]\n",
            "\n",
            "Move 1:\n",
            "[[8 6 7]\n",
            " [2 5 4]\n",
            " [3 1 0]]\n",
            "\n",
            "Move 2:\n",
            "[[8 6 7]\n",
            " [2 5 0]\n",
            " [3 1 4]]\n",
            "\n",
            "Move 3:\n",
            "[[8 6 0]\n",
            " [2 5 7]\n",
            " [3 1 4]]\n",
            "\n",
            "Move 4:\n",
            "[[8 0 6]\n",
            " [2 5 7]\n",
            " [3 1 4]]\n",
            "\n",
            "Move 5:\n",
            "[[0 8 6]\n",
            " [2 5 7]\n",
            " [3 1 4]]\n",
            "\n",
            "Move 6:\n",
            "[[2 8 6]\n",
            " [0 5 7]\n",
            " [3 1 4]]\n",
            "\n",
            "Move 7:\n",
            "[[2 8 6]\n",
            " [3 5 7]\n",
            " [0 1 4]]\n",
            "\n",
            "Move 8:\n",
            "[[2 8 6]\n",
            " [3 5 7]\n",
            " [1 0 4]]\n",
            "\n",
            "Move 9:\n",
            "[[2 8 6]\n",
            " [3 5 7]\n",
            " [1 4 0]]\n",
            "\n",
            "Move 10:\n",
            "[[2 8 6]\n",
            " [3 5 0]\n",
            " [1 4 7]]\n",
            "\n",
            "Move 11:\n",
            "[[2 8 6]\n",
            " [3 0 5]\n",
            " [1 4 7]]\n",
            "\n",
            "Move 12:\n",
            "[[2 8 6]\n",
            " [0 3 5]\n",
            " [1 4 7]]\n",
            "\n",
            "Move 13:\n",
            "[[2 8 6]\n",
            " [1 3 5]\n",
            " [0 4 7]]\n",
            "\n",
            "Move 14:\n",
            "[[2 8 6]\n",
            " [1 3 5]\n",
            " [4 0 7]]\n",
            "\n",
            "Move 15:\n",
            "[[2 8 6]\n",
            " [1 3 5]\n",
            " [4 7 0]]\n",
            "\n",
            "Move 16:\n",
            "[[2 8 6]\n",
            " [1 3 0]\n",
            " [4 7 5]]\n",
            "\n",
            "Move 17:\n",
            "[[2 8 6]\n",
            " [1 0 3]\n",
            " [4 7 5]]\n",
            "\n",
            "Move 18:\n",
            "[[2 0 6]\n",
            " [1 8 3]\n",
            " [4 7 5]]\n",
            "\n",
            "Move 19:\n",
            "[[2 6 0]\n",
            " [1 8 3]\n",
            " [4 7 5]]\n",
            "\n",
            "Move 20:\n",
            "[[2 6 3]\n",
            " [1 8 0]\n",
            " [4 7 5]]\n",
            "\n",
            "Move 21:\n",
            "[[2 6 3]\n",
            " [1 0 8]\n",
            " [4 7 5]]\n",
            "\n",
            "Move 22:\n",
            "[[2 0 3]\n",
            " [1 6 8]\n",
            " [4 7 5]]\n",
            "\n",
            "Move 23:\n",
            "[[0 2 3]\n",
            " [1 6 8]\n",
            " [4 7 5]]\n",
            "\n",
            "Move 24:\n",
            "[[1 2 3]\n",
            " [0 6 8]\n",
            " [4 7 5]]\n",
            "\n",
            "Move 25:\n",
            "[[1 2 3]\n",
            " [4 6 8]\n",
            " [0 7 5]]\n",
            "\n",
            "Move 26:\n",
            "[[1 2 3]\n",
            " [4 6 8]\n",
            " [7 0 5]]\n",
            "\n",
            "Move 27:\n",
            "[[1 2 3]\n",
            " [4 6 8]\n",
            " [7 5 0]]\n",
            "\n",
            "Move 28:\n",
            "[[1 2 3]\n",
            " [4 6 0]\n",
            " [7 5 8]]\n",
            "\n",
            "Move 29:\n",
            "[[1 2 3]\n",
            " [4 0 6]\n",
            " [7 5 8]]\n",
            "\n",
            "Move 30:\n",
            "[[1 2 3]\n",
            " [4 5 6]\n",
            " [7 0 8]]\n",
            "\n",
            "Final move:\n",
            "[[1 2 3]\n",
            " [4 5 6]\n",
            " [7 8 0]]\n"
          ]
        }
      ]
    },
    {
      "cell_type": "markdown",
      "metadata": {
        "id": "rXU5HkCd1ZPu"
      },
      "source": [
        "## Discorra sobre o desempenho dos métodos em questões de:\n",
        "1.   Consumo de memória\n",
        "2.   Processamento\n",
        "\n",
        "Como foi discutido na seção de teste, o algoritmo A* obteve uma peformance muito superior aos dois algoritmos de busca cega para uma instância muito difícil do problema, isso se deve ao uso de uma boa heurística.\n",
        "\n",
        "Ainda assim, é necessário armazenar todos os nós gerados em memória e dependendo da escala do problema, pode haver um estouro de memória. Comparando com a busca em largura, a profundidade da busca é a mesma, ou seja, aquele nível em que a solução ótima se encontra, porém, muitos nodos não são gerados diminuindo a complexidade espacial.\n",
        "\n",
        "A utilização da heurística também tem um impacto positivo no tempo de processamento, isso porque a informação extra evita que nodos que se distanciam da solução sejam explorados. Na busca em profundidade, por exemplo, isso não acontece e muitas vezes ramos muito profundos que não levam a solução devem ser processados."
      ]
    },
    {
      "cell_type": "code",
      "metadata": {
        "id": "-M6rztKu1W1j"
      },
      "source": [
        ""
      ],
      "execution_count": 6,
      "outputs": []
    }
  ]
}